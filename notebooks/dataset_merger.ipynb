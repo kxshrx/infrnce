{
 "cells": [
  {
   "cell_type": "code",
   "execution_count": 31,
   "id": "efec761f-2254-4307-a1c2-d0e88016367c",
   "metadata": {},
   "outputs": [],
   "source": [
    "import pandas as pd\n",
    "import glob\n",
    "\n",
    "# Example: Load all logs from a folder\n",
    "log_files = [\n",
    "    ('../data/openstack-nova-normal-vm-create.log', 'normal'),\n",
    "    ('../data/openstack-vm-destroy-immediately-after-create.log', 'abnormal1'),\n",
    "    ('../data/openstack-nova-undefine-vm-after-create.log', 'abnormal2'),\n",
    "    ('../data/openstack-nova-dhcpoff.log', 'abnormal3'),\n",
    "    ('../data/openstack-nova-sample.log', 'mixed')\n",
    "]\n",
    "\n",
    "all_logs = []\n",
    "for fname, label in log_files:\n",
    "    with open(fname, 'r') as f:\n",
    "        lines = [line.strip() for line in f if line.strip()]\n",
    "        all_logs.extend([(i, line, fname, label) for i, line in enumerate(lines)])\n",
    "\n",
    "df = pd.DataFrame(all_logs, columns=['log_id', 'raw_log_text', 'source_file', 'label'])\n",
    "\n",
    "\n",
    "df.to_csv('../data/nova_logs_cleaned.csv', index=False)\n"
   ]
  },
  {
   "cell_type": "code",
   "execution_count": 32,
   "id": "1e2b908f-b1df-4990-abfe-add3bb928257",
   "metadata": {},
   "outputs": [
    {
     "data": {
      "text/html": [
       "<div>\n",
       "<style scoped>\n",
       "    .dataframe tbody tr th:only-of-type {\n",
       "        vertical-align: middle;\n",
       "    }\n",
       "\n",
       "    .dataframe tbody tr th {\n",
       "        vertical-align: top;\n",
       "    }\n",
       "\n",
       "    .dataframe thead th {\n",
       "        text-align: right;\n",
       "    }\n",
       "</style>\n",
       "<table border=\"1\" class=\"dataframe\">\n",
       "  <thead>\n",
       "    <tr style=\"text-align: right;\">\n",
       "      <th></th>\n",
       "      <th>log_id</th>\n",
       "      <th>raw_log_text</th>\n",
       "      <th>source_file</th>\n",
       "      <th>label</th>\n",
       "    </tr>\n",
       "  </thead>\n",
       "  <tbody>\n",
       "    <tr>\n",
       "      <th>0</th>\n",
       "      <td>0</td>\n",
       "      <td>INFO nova.compute.claims [None req-a4498d64-47...</td>\n",
       "      <td>../data/openstack-nova-normal-vm-create.log</td>\n",
       "      <td>normal</td>\n",
       "    </tr>\n",
       "    <tr>\n",
       "      <th>1</th>\n",
       "      <td>1</td>\n",
       "      <td>INFO nova.virt.libvirt.driver [None req-a4498d...</td>\n",
       "      <td>../data/openstack-nova-normal-vm-create.log</td>\n",
       "      <td>normal</td>\n",
       "    </tr>\n",
       "    <tr>\n",
       "      <th>2</th>\n",
       "      <td>2</td>\n",
       "      <td>INFO os_vif [None req-a4498d64-47bb-491f-adde-...</td>\n",
       "      <td>../data/openstack-nova-normal-vm-create.log</td>\n",
       "      <td>normal</td>\n",
       "    </tr>\n",
       "    <tr>\n",
       "      <th>3</th>\n",
       "      <td>3</td>\n",
       "      <td>INFO nova.compute.manager [None req-ac9f5721-5...</td>\n",
       "      <td>../data/openstack-nova-normal-vm-create.log</td>\n",
       "      <td>normal</td>\n",
       "    </tr>\n",
       "    <tr>\n",
       "      <th>4</th>\n",
       "      <td>4</td>\n",
       "      <td>INFO nova.compute.manager [None req-ac9f5721-5...</td>\n",
       "      <td>../data/openstack-nova-normal-vm-create.log</td>\n",
       "      <td>normal</td>\n",
       "    </tr>\n",
       "  </tbody>\n",
       "</table>\n",
       "</div>"
      ],
      "text/plain": [
       "   log_id                                       raw_log_text  \\\n",
       "0       0  INFO nova.compute.claims [None req-a4498d64-47...   \n",
       "1       1  INFO nova.virt.libvirt.driver [None req-a4498d...   \n",
       "2       2  INFO os_vif [None req-a4498d64-47bb-491f-adde-...   \n",
       "3       3  INFO nova.compute.manager [None req-ac9f5721-5...   \n",
       "4       4  INFO nova.compute.manager [None req-ac9f5721-5...   \n",
       "\n",
       "                                   source_file   label  \n",
       "0  ../data/openstack-nova-normal-vm-create.log  normal  \n",
       "1  ../data/openstack-nova-normal-vm-create.log  normal  \n",
       "2  ../data/openstack-nova-normal-vm-create.log  normal  \n",
       "3  ../data/openstack-nova-normal-vm-create.log  normal  \n",
       "4  ../data/openstack-nova-normal-vm-create.log  normal  "
      ]
     },
     "execution_count": 32,
     "metadata": {},
     "output_type": "execute_result"
    }
   ],
   "source": [
    "df.head()"
   ]
  },
  {
   "cell_type": "code",
   "execution_count": 33,
   "id": "5a6fbede-d581-4a1a-93b8-fd37e2dd00ad",
   "metadata": {},
   "outputs": [
    {
     "data": {
      "text/plain": [
       "(188849, 4)"
      ]
     },
     "execution_count": 33,
     "metadata": {},
     "output_type": "execute_result"
    }
   ],
   "source": [
    "df.shape"
   ]
  },
  {
   "cell_type": "code",
   "execution_count": 34,
   "id": "1e9c0275-8e3d-4f6b-bdc2-cd18becadacb",
   "metadata": {},
   "outputs": [],
   "source": [
    "df = df.drop_duplicates(subset=['raw_log_text'])\n",
    "\n",
    "# Save\n",
    "df.to_csv('../data/nova_logs_cleaned.csv', index=False)\n"
   ]
  },
  {
   "cell_type": "code",
   "execution_count": 35,
   "id": "589595ac-dfec-454c-b46a-c829b3512293",
   "metadata": {},
   "outputs": [
    {
     "data": {
      "text/plain": [
       "(137540, 4)"
      ]
     },
     "execution_count": 35,
     "metadata": {},
     "output_type": "execute_result"
    }
   ],
   "source": [
    "df.shape"
   ]
  },
  {
   "cell_type": "code",
   "execution_count": 36,
   "id": "3b955a22-8674-43fa-b026-9ac01f1c3203",
   "metadata": {},
   "outputs": [
    {
     "data": {
      "text/plain": [
       "Index(['log_id', 'raw_log_text', 'source_file', 'label'], dtype='object')"
      ]
     },
     "execution_count": 36,
     "metadata": {},
     "output_type": "execute_result"
    }
   ],
   "source": [
    "df.columns"
   ]
  },
  {
   "cell_type": "code",
   "execution_count": 37,
   "id": "f460c567-7f78-4ecf-8b54-3f381a8fa1dd",
   "metadata": {},
   "outputs": [
    {
     "data": {
      "text/html": [
       "<div>\n",
       "<style scoped>\n",
       "    .dataframe tbody tr th:only-of-type {\n",
       "        vertical-align: middle;\n",
       "    }\n",
       "\n",
       "    .dataframe tbody tr th {\n",
       "        vertical-align: top;\n",
       "    }\n",
       "\n",
       "    .dataframe thead th {\n",
       "        text-align: right;\n",
       "    }\n",
       "</style>\n",
       "<table border=\"1\" class=\"dataframe\">\n",
       "  <thead>\n",
       "    <tr style=\"text-align: right;\">\n",
       "      <th></th>\n",
       "      <th>log_id</th>\n",
       "      <th>raw_log_text</th>\n",
       "      <th>source_file</th>\n",
       "      <th>label</th>\n",
       "    </tr>\n",
       "  </thead>\n",
       "  <tbody>\n",
       "    <tr>\n",
       "      <th>0</th>\n",
       "      <td>0</td>\n",
       "      <td>INFO nova.compute.claims [None req-a4498d64-47...</td>\n",
       "      <td>../data/openstack-nova-normal-vm-create.log</td>\n",
       "      <td>normal</td>\n",
       "    </tr>\n",
       "    <tr>\n",
       "      <th>1</th>\n",
       "      <td>1</td>\n",
       "      <td>INFO nova.virt.libvirt.driver [None req-a4498d...</td>\n",
       "      <td>../data/openstack-nova-normal-vm-create.log</td>\n",
       "      <td>normal</td>\n",
       "    </tr>\n",
       "    <tr>\n",
       "      <th>2</th>\n",
       "      <td>2</td>\n",
       "      <td>INFO os_vif [None req-a4498d64-47bb-491f-adde-...</td>\n",
       "      <td>../data/openstack-nova-normal-vm-create.log</td>\n",
       "      <td>normal</td>\n",
       "    </tr>\n",
       "    <tr>\n",
       "      <th>3</th>\n",
       "      <td>3</td>\n",
       "      <td>INFO nova.compute.manager [None req-ac9f5721-5...</td>\n",
       "      <td>../data/openstack-nova-normal-vm-create.log</td>\n",
       "      <td>normal</td>\n",
       "    </tr>\n",
       "    <tr>\n",
       "      <th>4</th>\n",
       "      <td>4</td>\n",
       "      <td>INFO nova.compute.manager [None req-ac9f5721-5...</td>\n",
       "      <td>../data/openstack-nova-normal-vm-create.log</td>\n",
       "      <td>normal</td>\n",
       "    </tr>\n",
       "  </tbody>\n",
       "</table>\n",
       "</div>"
      ],
      "text/plain": [
       "   log_id                                       raw_log_text  \\\n",
       "0       0  INFO nova.compute.claims [None req-a4498d64-47...   \n",
       "1       1  INFO nova.virt.libvirt.driver [None req-a4498d...   \n",
       "2       2  INFO os_vif [None req-a4498d64-47bb-491f-adde-...   \n",
       "3       3  INFO nova.compute.manager [None req-ac9f5721-5...   \n",
       "4       4  INFO nova.compute.manager [None req-ac9f5721-5...   \n",
       "\n",
       "                                   source_file   label  \n",
       "0  ../data/openstack-nova-normal-vm-create.log  normal  \n",
       "1  ../data/openstack-nova-normal-vm-create.log  normal  \n",
       "2  ../data/openstack-nova-normal-vm-create.log  normal  \n",
       "3  ../data/openstack-nova-normal-vm-create.log  normal  \n",
       "4  ../data/openstack-nova-normal-vm-create.log  normal  "
      ]
     },
     "execution_count": 37,
     "metadata": {},
     "output_type": "execute_result"
    }
   ],
   "source": [
    "df.head()"
   ]
  },
  {
   "cell_type": "code",
   "execution_count": null,
   "id": "02865ab4-44a0-43ba-bae5-63d7723a020a",
   "metadata": {},
   "outputs": [],
   "source": []
  }
 ],
 "metadata": {
  "kernelspec": {
   "display_name": "Python 3 (ipykernel)",
   "language": "python",
   "name": "python3"
  },
  "language_info": {
   "codemirror_mode": {
    "name": "ipython",
    "version": 3
   },
   "file_extension": ".py",
   "mimetype": "text/x-python",
   "name": "python",
   "nbconvert_exporter": "python",
   "pygments_lexer": "ipython3",
   "version": "3.12.10"
  }
 },
 "nbformat": 4,
 "nbformat_minor": 5
}
