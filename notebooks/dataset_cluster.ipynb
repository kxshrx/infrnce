{
 "cells": [
  {
   "cell_type": "code",
   "execution_count": 6,
   "id": "ba2630bc-dcf4-4428-aaa8-c8f01d015607",
   "metadata": {},
   "outputs": [],
   "source": [
    "import pandas as pd\n",
    "import numpy as np\n",
    "\n",
    "# Load the dataset you just created\n",
    "df = pd.read_csv('nova_logs_manageable.csv')"
   ]
  },
  {
   "cell_type": "code",
   "execution_count": 7,
   "id": "3c706e57-09f3-4f5f-af8a-8d4e9eb95ac7",
   "metadata": {},
   "outputs": [
    {
     "data": {
      "text/plain": [
       "['log_id', 'raw_log_text', 'source_file', 'label']"
      ]
     },
     "execution_count": 7,
     "metadata": {},
     "output_type": "execute_result"
    }
   ],
   "source": [
    "df.columns.tolist()"
   ]
  },
  {
   "cell_type": "code",
   "execution_count": 8,
   "id": "0636e268-03f8-41c3-b853-a43ea99bcaff",
   "metadata": {},
   "outputs": [
    {
     "name": "stdout",
     "output_type": "stream",
     "text": [
      "Loading sentence transformer model...\n",
      "Model loaded successfully!\n"
     ]
    }
   ],
   "source": [
    "from sentence_transformers import SentenceTransformer\n",
    "\n",
    "# Load the embedding model\n",
    "print(\"Loading sentence transformer model...\")\n",
    "model = SentenceTransformer('all-MiniLM-L6-v2')\n",
    "print(\"Model loaded successfully!\")\n"
   ]
  },
  {
   "cell_type": "code",
   "execution_count": 9,
   "id": "682b664c-86aa-4eeb-8f6f-3a553453c021",
   "metadata": {},
   "outputs": [
    {
     "name": "stdout",
     "output_type": "stream",
     "text": [
      "Prepared 54646 log texts for embedding\n"
     ]
    }
   ],
   "source": [
    "# Extract just the log text column\n",
    "log_texts = df['raw_log_text'].astype(str).tolist()\n",
    "print(f\"Prepared {len(log_texts)} log texts for embedding\")\n"
   ]
  },
  {
   "cell_type": "code",
   "execution_count": 10,
   "id": "f7ced9f8-1158-4bf1-a090-99cf6effe3b2",
   "metadata": {},
   "outputs": [
    {
     "name": "stdout",
     "output_type": "stream",
     "text": [
      "Computing embeddings... (this may take 3-5 minutes)\n"
     ]
    },
    {
     "data": {
      "application/vnd.jupyter.widget-view+json": {
       "model_id": "1954459797a243c39f464cbccf090a16",
       "version_major": 2,
       "version_minor": 0
      },
      "text/plain": [
       "Batches:   0%|          | 0/427 [00:00<?, ?it/s]"
      ]
     },
     "metadata": {},
     "output_type": "display_data"
    },
    {
     "name": "stdout",
     "output_type": "stream",
     "text": [
      "Generated embeddings with shape: (54646, 384)\n"
     ]
    }
   ],
   "source": [
    "# Generate embeddings (this will take a few minutes)\n",
    "print(\"Computing embeddings... (this may take 3-5 minutes)\")\n",
    "embeddings = model.encode(\n",
    "    log_texts, \n",
    "    batch_size=128,\n",
    "    show_progress_bar=True,\n",
    "    convert_to_numpy=True\n",
    ")\n",
    "\n",
    "print(f\"Generated embeddings with shape: {embeddings.shape}\")\n"
   ]
  },
  {
   "cell_type": "code",
   "execution_count": 15,
   "id": "5cb87131-f18a-4262-8fda-c59d6c7077a3",
   "metadata": {},
   "outputs": [
    {
     "name": "stdout",
     "output_type": "stream",
     "text": [
      "Testing different DBSCAN parameters:\n",
      "eps=0.1, min_samples=15: 61 clusters, 854 noise (1.6%)\n",
      "eps=0.1, min_samples=20: 57 clusters, 929 noise (1.7%)\n",
      "eps=0.1, min_samples=25: 56 clusters, 953 noise (1.7%)\n",
      "eps=0.1, min_samples=30: 53 clusters, 1055 noise (1.9%)\n",
      "eps=0.2, min_samples=15: 23 clusters, 525 noise (1.0%)\n",
      "eps=0.2, min_samples=20: 23 clusters, 558 noise (1.0%)\n",
      "eps=0.2, min_samples=25: 23 clusters, 560 noise (1.0%)\n",
      "eps=0.2, min_samples=30: 20 clusters, 647 noise (1.2%)\n",
      "eps=0.3, min_samples=15: 16 clusters, 309 noise (0.6%)\n",
      "eps=0.3, min_samples=20: 15 clusters, 345 noise (0.6%)\n",
      "eps=0.3, min_samples=25: 15 clusters, 347 noise (0.6%)\n",
      "eps=0.3, min_samples=30: 14 clusters, 375 noise (0.7%)\n",
      "eps=0.4, min_samples=15: 4 clusters, 222 noise (0.4%)\n",
      "eps=0.4, min_samples=20: 4 clusters, 225 noise (0.4%)\n",
      "eps=0.4, min_samples=25: 4 clusters, 226 noise (0.4%)\n",
      "eps=0.4, min_samples=30: 4 clusters, 226 noise (0.4%)\n"
     ]
    }
   ],
   "source": [
    "# # Try multiple parameter combinations to find optimal clustering\n",
    "# from sklearn.cluster import DBSCAN\n",
    "# import numpy as np\n",
    "\n",
    "# eps_values = [0.1, 0.2, 0.3, 0.4]\n",
    "# min_samples_values = [15, 20, 25, 30]\n",
    "\n",
    "# print(\"Testing different DBSCAN parameters:\")\n",
    "# for eps in eps_values:\n",
    "#     for min_samples in min_samples_values:\n",
    "#         dbscan = DBSCAN(eps=eps, min_samples=min_samples, metric='cosine')\n",
    "#         cluster_labels = dbscan.fit_predict(embeddings)\n",
    "        \n",
    "#         n_clusters = len(set(cluster_labels)) - (1 if -1 in cluster_labels else 0)\n",
    "#         n_noise = list(cluster_labels).count(-1)\n",
    "        \n",
    "#         print(f\"eps={eps}, min_samples={min_samples}: {n_clusters} clusters, {n_noise} noise ({n_noise/len(df)*100:.1f}%)\")\n"
   ]
  },
  {
   "cell_type": "code",
   "execution_count": 16,
   "id": "77ee27fc-29f6-4162-8b5f-929788373c24",
   "metadata": {},
   "outputs": [
    {
     "name": "stdout",
     "output_type": "stream",
     "text": [
      "Found 4 clusters\n",
      "Noise points: 226\n"
     ]
    }
   ],
   "source": [
    "# # Add the cluster assignments back to your dataframe\n",
    "# df['cluster_id'] = cluster_labels\n",
    "\n",
    "# # Basic cluster statistics\n",
    "# n_clusters = len(set(cluster_labels)) - (1 if -1 in cluster_labels else 0)\n",
    "# n_noise = list(cluster_labels).count(-1)\n",
    "\n",
    "# print(f\"Found {n_clusters} clusters\")\n",
    "# print(f\"Noise points: {n_noise}\")\n"
   ]
  },
  {
   "cell_type": "code",
   "execution_count": 17,
   "id": "775c94dc-c012-40c1-82a8-c68feeaf83a2",
   "metadata": {},
   "outputs": [
    {
     "name": "stdout",
     "output_type": "stream",
     "text": [
      "\n",
      "Top 10 clusters by size:\n",
      "  Cluster 0: 54203 logs\n",
      "  Cluster -1: 226 logs\n",
      "  Cluster 1: 93 logs\n",
      "  Cluster 2: 93 logs\n",
      "  Cluster 3: 31 logs\n"
     ]
    }
   ],
   "source": [
    "# import collections\n",
    "\n",
    "# # Count logs per cluster\n",
    "# cluster_counts = collections.Counter(cluster_labels)\n",
    "# print(\"\\nTop 10 clusters by size:\")\n",
    "# for cid, count in cluster_counts.most_common(10):\n",
    "#     print(f\"  Cluster {cid}: {count} logs\")\n"
   ]
  },
  {
   "cell_type": "code",
   "execution_count": 19,
   "id": "d4fbe2ac-fb47-4c22-8a0b-a466d4db55e1",
   "metadata": {},
   "outputs": [
    {
     "name": "stdout",
     "output_type": "stream",
     "text": [
      "KMeans created 25 clusters\n",
      "Top 10 clusters by size:\n",
      "  Cluster 1: 5268 logs\n",
      "  Cluster 8: 4507 logs\n",
      "  Cluster 18: 4405 logs\n",
      "  Cluster 4: 3643 logs\n",
      "  Cluster 2: 3285 logs\n",
      "  Cluster 3: 2967 logs\n",
      "  Cluster 0: 2887 logs\n",
      "  Cluster 11: 2693 logs\n",
      "  Cluster 7: 2500 logs\n",
      "  Cluster 5: 2467 logs\n"
     ]
    }
   ],
   "source": [
    "from sklearn.cluster import KMeans\n",
    "\n",
    "# KMeans with fixed number of clusters (more reliable for your use case)\n",
    "n_clusters = 25  # Reasonable number for your dataset size\n",
    "\n",
    "kmeans = KMeans(n_clusters=n_clusters, random_state=42, n_init=10)\n",
    "cluster_labels = kmeans.fit_predict(embeddings)\n",
    "\n",
    "df['cluster_id'] = cluster_labels\n",
    "\n",
    "# Analyze results\n",
    "import collections\n",
    "cluster_counts = collections.Counter(cluster_labels)\n",
    "print(f\"KMeans created {n_clusters} clusters\")\n",
    "print(\"Top 10 clusters by size:\")\n",
    "for cid, count in cluster_counts.most_common(10):\n",
    "    print(f\"  Cluster {cid}: {count} logs\")\n"
   ]
  },
  {
   "cell_type": "code",
   "execution_count": 22,
   "id": "6df23a71-eeea-43cf-9795-7be51d200ec4",
   "metadata": {},
   "outputs": [
    {
     "name": "stdout",
     "output_type": "stream",
     "text": [
      "KMeans created 25 clusters\n",
      "Cluster sizes:\n",
      "  Cluster 0: 2887 logs\n",
      "  Cluster 1: 5268 logs\n",
      "  Cluster 2: 3285 logs\n",
      "  Cluster 3: 2967 logs\n",
      "  Cluster 4: 3643 logs\n",
      "  Cluster 5: 2467 logs\n",
      "  Cluster 6: 2462 logs\n",
      "  Cluster 7: 2500 logs\n",
      "  Cluster 8: 4507 logs\n",
      "  Cluster 9: 1100 logs\n",
      "  Cluster 10: 1658 logs\n",
      "  Cluster 11: 2693 logs\n",
      "  Cluster 12: 2241 logs\n",
      "  Cluster 13: 937 logs\n",
      "  Cluster 14: 1188 logs\n",
      "  Cluster 15: 1941 logs\n",
      "  Cluster 16: 807 logs\n",
      "  Cluster 17: 1352 logs\n",
      "  Cluster 18: 4405 logs\n",
      "  Cluster 19: 1130 logs\n",
      "  Cluster 20: 2021 logs\n",
      "  Cluster 21: 1058 logs\n",
      "  Cluster 22: 864 logs\n",
      "  Cluster 23: 606 logs\n",
      "  Cluster 24: 659 logs\n"
     ]
    }
   ],
   "source": [
    "print(f\"KMeans created {n_clusters} clusters\")\n",
    "print(\"Cluster sizes:\")\n",
    "for cid, count in sorted(cluster_counts.items()):\n",
    "    print(f\"  Cluster {cid}: {count} logs\")\n"
   ]
  },
  {
   "cell_type": "code",
   "execution_count": 23,
   "id": "512d35bb-bd7f-40c2-926e-ba413f18f2c2",
   "metadata": {
    "collapsed": true,
    "jupyter": {
     "outputs_hidden": true
    }
   },
   "outputs": [
    {
     "name": "stdout",
     "output_type": "stream",
     "text": [
      "=== CLUSTER CONTENT ANALYSIS ===\n",
      "\n",
      "--- CLUSTER 0 (size: 2887) ---\n",
      "1. INFO nova.compute.manager [req-b9d6411c-b3ea-4307-a707-ec546b0192b3] [instance: 8192614e-4a86-47cc-a...\n",
      "2. INFO nova.compute.manager [None req-b98e753d-2fc9-45fa-b5ea-c9cb88685b4c admin admin] [instance: 6c3...\n",
      "3. INFO nova.compute.manager [None req-c425b326-7176-44af-a1e2-3dcb26a94253 admin admin] [instance: b61...\n",
      "Labels: {'mixed': np.int64(1139), 'normal': np.int64(767), 'abnormal1': np.int64(411), 'abnormal2': np.int64(371), 'abnormal3': np.int64(199)}\n",
      "\n",
      "--- CLUSTER 1 (size: 5268) ---\n",
      "1. INFO nova.virt.libvirt.driver [req-297e6cd3-84b7-43af-982e-af5be68422dd] [instance: 5897334a-6797-4c...\n",
      "2. INFO nova.virt.libvirt.driver [req-65c799f8-e7f0-4c7f-ad2e-db39859caa15] [instance: 9f4a73a0-9f9c-44...\n",
      "3. INFO nova.virt.libvirt.driver [req-b54a3755-1572-459d-82f9-4b7c57ae3e80] [instance: 8191edca-f070-40...\n",
      "Labels: {'mixed': np.int64(2189), 'normal': np.int64(1558), 'abnormal1': np.int64(593), 'abnormal2': np.int64(528), 'abnormal3': np.int64(400)}\n",
      "\n",
      "--- CLUSTER 2 (size: 3285) ---\n",
      "1. INFO nova.compute.manager [None req-0f69838f-e506-4e79-9b37-85b2cba0ab35 None None] [instance: dc040...\n",
      "2. INFO nova.compute.manager [req-d96524cb-6283-416d-95af-d47508fa2ec5] [instance: a88e00c7-5cdc-4165-a...\n",
      "3. INFO nova.compute.manager [req-81c54f41-2cb7-4235-8c45-da500da1c0fa] [instance: 6a0c3b68-67c8-4090-b...\n",
      "Labels: {'mixed': np.int64(1287), 'abnormal1': np.int64(783), 'normal': np.int64(753), 'abnormal2': np.int64(263), 'abnormal3': np.int64(199)}\n",
      "\n",
      "--- CLUSTER 3 (size: 2967) ---\n",
      "1. INFO os_vif [None req-7c6fa9c3-a70a-42f3-bc33-96544dea14ed admin admin] Successfully unplugged vif V...\n",
      "2. INFO os_vif [None req-603e5552-004b-4500-8b96-19a9a2579e3e admin admin] Successfully plugged vif VIF...\n",
      "3. INFO os_vif [req-c2ee227b-0a95-4904-8e6c-bc362e69ac6f] Successfully plugged vif VIFOpenVSwitch(activ...\n",
      "Labels: {'normal': np.int64(1488), 'abnormal1': np.int64(563), 'abnormal2': np.int64(518), 'abnormal3': np.int64(398)}\n",
      "\n",
      "--- CLUSTER 4 (size: 3643) ---\n",
      "1. INFO nova.compute.manager [None req-51a7529f-cd0f-4739-8169-8fba5bbb3181 admin admin] [instance: ae7...\n",
      "2. INFO nova.compute.manager [None req-0f3e0c2b-b117-4591-87f4-2bc42e80139b admin admin] [instance: c6e...\n",
      "3. INFO nova.compute.manager [req-1464cb89-44d7-493d-937d-6ef055d337eb] [instance: 6d84db49-cf47-44db-b...\n",
      "Labels: {'mixed': np.int64(1984), 'normal': np.int64(1529), 'abnormal2': np.int64(108), 'abnormal1': np.int64(22)}\n",
      "\n",
      "--- CLUSTER 5 (size: 2467) ---\n",
      "1. INFO nova.compute.claims [req-c74d2462-7c04-434f-a779-20802413576e] [instance: 285db649-e0a5-4600-8c...\n",
      "2. INFO nova.compute.claims [req-d090956e-ca41-4353-8b53-dc51039ec4be] [instance: d9f14b7d-1413-4c84-94...\n",
      "3. INFO nova.compute.claims [None req-cca89763-f016-43f3-a4d5-6e64c19f9536 admin admin] [instance: 0a7a...\n",
      "Labels: {'mixed': np.int64(1060), 'normal': np.int64(758), 'abnormal2': np.int64(255), 'abnormal3': np.int64(198), 'abnormal1': np.int64(196)}\n",
      "\n",
      "--- CLUSTER 6 (size: 2462) ---\n",
      "1. INFO nova.scheduler.client.report [req-a322d5f4-1dcb-4709-9348-af4334ee24dc] Deleted allocation for ...\n",
      "2. INFO nova.scheduler.client.report [None req-e81b93f3-ddc4-4229-a4f3-eb03dccd5f04 admin admin] Delete...\n",
      "3. INFO nova.scheduler.client.report [None req-48bd26e2-658c-4815-91c1-ca3fba020bdd admin admin] Delete...\n",
      "Labels: {'mixed': np.int64(1048), 'normal': np.int64(764), 'abnormal2': np.int64(254), 'abnormal3': np.int64(199), 'abnormal1': np.int64(197)}\n",
      "\n",
      "--- CLUSTER 7 (size: 2500) ---\n",
      "1. INFO nova.virt.libvirt.driver [req-c1002f45-f1a8-438b-aa27-ad37f8c53738] [instance: 54997050-ee83-4f...\n",
      "2. INFO nova.virt.libvirt.driver [req-e5be6940-ba26-4404-98cf-9797fdfbbb8d] [instance: 0033de25-872a-40...\n",
      "3. INFO nova.virt.libvirt.driver [None req-e77f9084-bad1-4936-8341-81178cb1f19e admin admin] [instance:...\n",
      "Labels: {'mixed': np.int64(1074), 'normal': np.int64(765), 'abnormal2': np.int64(259), 'abnormal1': np.int64(203), 'abnormal3': np.int64(199)}\n",
      "\n",
      "--- CLUSTER 8 (size: 4507) ---\n",
      "1. INFO nova.compute.manager [req-46123093-5f3c-4ff2-b9a3-b013b39f3f26] [instance: 26fa461c-54bc-4aaf-a...\n",
      "2. INFO nova.compute.manager [None req-46123093-5f3c-4ff2-b9a3-b013b39f3f26 None None] [instance: 92de5...\n",
      "3. INFO nova.compute.manager [None req-eb337492-dfed-408c-89f6-433726e82021 None None] [instance: 056fd...\n",
      "Labels: {'abnormal1': np.int64(1679), 'mixed': np.int64(1545), 'normal': np.int64(796), 'abnormal2': np.int64(286), 'abnormal3': np.int64(201)}\n",
      "\n",
      "--- CLUSTER 9 (size: 1100) ---\n",
      "1. INFO os_vif [req-6699b16c-2f5a-4987-8795-f610a69f3b87] Successfully unplugged vif VIFOpenVSwitch...\n",
      "2. INFO os_vif [req-d49d8461-231f-41ff-b7c4-210f6a73a69f] Successfully unplugged vif VIFOpenVSwitch...\n",
      "3. INFO os_vif [req-4e40004b-3b2e-4b4f-a010-f44ca1f3bf54] Successfully unplugged vif VIFOpenVSwitch...\n",
      "Labels: {'mixed': np.int64(1100)}\n",
      "\n",
      "--- CLUSTER 10 (size: 1658) ---\n",
      "1. INFO nova.compute.manager [-] [instance: 4f8201a6-ea00-49b0-910b-123326f683ea] Took 15.99 seconds to...\n",
      "2. INFO nova.compute.manager [-] [instance: 29af65eb-5e38-4158-9a81-8174e8220384] Took 1.02 seconds to ...\n",
      "3. INFO nova.compute.manager [req-93ee29a5-efb6-4d2e-b0a3-6f5d6005f6b4] [instance: e7660d02-3b33-4600-a...\n",
      "Labels: {'normal': np.int64(761), 'abnormal1': np.int64(373), 'abnormal2': np.int64(264), 'abnormal3': np.int64(199), 'mixed': np.int64(61)}\n",
      "\n",
      "--- CLUSTER 11 (size: 2693) ---\n",
      "1. INFO nova.compute.manager [req-c94888ea-94a8-488a-b592-b6bc3a2cd6f3] [instance: fcaed5c9-f63d-4f7e-a...\n",
      "2. INFO nova.compute.manager [None req-965f359b-8d59-43e0-b4ce-9a9fd2112bfa admin admin] [instance: 504...\n",
      "3. INFO nova.compute.manager [req-ca1ea039-9733-4dc5-b143-ee5168608a06] [instance: d561f446-51de-4713-9...\n",
      "Labels: {'mixed': np.int64(1100), 'normal': np.int64(759), 'abnormal1': np.int64(371), 'abnormal2': np.int64(264), 'abnormal3': np.int64(199)}\n",
      "\n",
      "--- CLUSTER 12 (size: 2241) ---\n",
      "1. INFO nova.virt.libvirt.driver [-] [instance: 6e8f0992-cf75-4fc5-bc90-174eb0435cdb] Instance destroye...\n",
      "2. INFO nova.virt.libvirt.driver [-] [instance: 98359659-6791-4be6-8e22-6f582bdaaf38] Instance destroye...\n",
      "3. INFO nova.virt.libvirt.driver [-] [instance: 3350e1b4-c6d7-45aa-a325-7c1bd5ec2255] Instance destroye...\n",
      "Labels: {'normal': np.int64(1521), 'abnormal2': np.int64(306), 'abnormal1': np.int64(212), 'abnormal3': np.int64(199), 'mixed': np.int64(3)}\n",
      "\n",
      "--- CLUSTER 13 (size: 937) ---\n",
      "1. ERROR nova.compute.manager [req-cd270dcf-80de-4ca9-8c1a-9de0df59e906] [instance: f1433bbf-897d-45e8-...\n",
      "2. ERROR nova.compute.manager [req-41283634-e542-47bc-9f9a-96ce1ef470eb] [instance: c3226016-2b13-44c6-...\n",
      "3. ERROR nova.compute.manager [None req-f4d959ee-40d5-4581-93a0-2477bb05745f admin admin] [instance: 82...\n",
      "Labels: {'abnormal3': np.int64(597), 'abnormal1': np.int64(252), 'mixed': np.int64(63), 'abnormal2': np.int64(25)}\n",
      "\n",
      "--- CLUSTER 14 (size: 1188) ---\n",
      "1. ERROR nova.compute.manager [instance: 0671af16-8fc5-458b-99d0-594bb027fde5]   File \"/opt/stack/nova/...\n",
      "2. ERROR nova.compute.manager [req-ea903ee9-f293-4a53-93bd-050113d23125] [instance: 6d1ab807-a8a2-4f64-...\n",
      "3. ERROR nova.compute.manager [instance: e2a1a54b-58b4-4301-a3f0-e6ccab886469]   File \"/usr/local/lib/p...\n",
      "Labels: {'abnormal2': np.int64(939), 'mixed': np.int64(122), 'abnormal1': np.int64(117), 'normal': np.int64(9), 'abnormal3': np.int64(1)}\n",
      "\n",
      "--- CLUSTER 15 (size: 1941) ---\n",
      "1. INFO nova.compute.manager [None req-ac9f5721-5c52-4ec3-ba8a-e494d9780d53 None None] [instance: eb5e0...\n",
      "2. INFO nova.compute.manager [req-ac9f5721-5c52-4ec3-ba8a-e494d9780d53] [instance: ef317465-c486-47b9-9...\n",
      "3. INFO nova.compute.manager [None req-ac9f5721-5c52-4ec3-ba8a-e494d9780d53 None None] [instance: 9c83f...\n",
      "Labels: {'mixed': np.int64(1023), 'normal': np.int64(762), 'abnormal2': np.int64(114), 'abnormal1': np.int64(42)}\n",
      "\n",
      "--- CLUSTER 16 (size: 807) ---\n",
      "1. WARNING oslo.service.loopingcall [-] Function 'nova.virt.libvirt.driver.LibvirtDriver.spawn.<locals>...\n",
      "2. ERROR nova.compute.manager [instance: 0bdc6f08-787b-4ea1-a838-68c712183db1] libvirt.libvirtError: in...\n",
      "3. ERROR nova.virt.libvirt.driver [req-4f741ef1-b639-4531-8bd0-3b612cd5916b] [instance: 462d67ed-da89-4...\n",
      "Labels: {'abnormal2': np.int64(791), 'abnormal1': np.int64(11), 'mixed': np.int64(5)}\n",
      "\n",
      "--- CLUSTER 17 (size: 1352) ---\n",
      "1. <entry name='serial'>f41265c7-0cc0-4212-8ab4-89626d362895</entry>...\n",
      "2. <entry name='serial'>4407b008-5920-4905-a69a-e4fd11268f07</entry>...\n",
      "3. <mac address='fa:16:3e:bf:42:da'/>...\n",
      "Labels: {'abnormal2': np.int64(825), 'abnormal1': np.int64(518), 'mixed': np.int64(6), 'abnormal3': np.int64(3)}\n",
      "\n",
      "--- CLUSTER 18 (size: 4405) ---\n",
      "1. INFO nova.compute.manager [req-ac9f5721-5c52-4ec3-ba8a-e494d9780d53] [instance: fd750099-65bf-4119-b...\n",
      "2. INFO nova.compute.manager [-] [instance: 547747a6-92df-4e2b-84ea-c84659d7ac4e] VM Stopped (Lifecycle...\n",
      "3. INFO nova.compute.manager [-] [instance: 32449f55-b9df-44db-bce7-c5ee2b7407fd] VM Stopped (Lifecycle...\n",
      "Labels: {'normal': np.int64(1524), 'mixed': np.int64(1271), 'abnormal1': np.int64(955), 'abnormal3': np.int64(398), 'abnormal2': np.int64(257)}\n",
      "\n",
      "--- CLUSTER 19 (size: 1130) ---\n",
      "1. ERROR nova.compute.manager [instance: f14b4ff7-ec1f-48a8-ae31-9d75dcb3febe]   File \"/usr/local/lib/p...\n",
      "2. ERROR nova.compute.manager [instance: a4b29a0c-24ff-403a-bf6d-41ff23c9bb3a]   File \"/usr/local/lib/p...\n",
      "3. ERROR nova.compute.manager [instance: 15ac10f7-2556-4535-8da3-822c9f6f1880]   File \"/opt/stack/nova/...\n",
      "Labels: {'abnormal2': np.int64(1129), 'normal': np.int64(1)}\n",
      "\n",
      "--- CLUSTER 20 (size: 2021) ---\n",
      "1. ERROR nova.compute.manager [instance: c265f382-e5d8-44fb-98c8-84abd4592037]     self.force_reraise()...\n",
      "2. ERROR nova.compute.manager [instance: 5c8e1f51-e29c-458b-9cff-46f9645ef5b1]     update_on_match(comp...\n",
      "3. ERROR nova.compute.manager [instance: e94623d1-0895-4553-a612-982f30353869]...\n",
      "Labels: {'abnormal2': np.int64(1945), 'mixed': np.int64(33), 'abnormal1': np.int64(23), 'normal': np.int64(20)}\n",
      "\n",
      "--- CLUSTER 21 (size: 1058) ---\n",
      "1. INFO os_vif [req-22c1fec7-2933-438e-a789-e6be64db9aad] Successfully plugged vif VIFOpenVSwitch...\n",
      "2. INFO os_vif [req-e350c6eb-9165-4b11-8466-7d62284ddffb] Successfully plugged vif VIFOpenVSwitch...\n",
      "3. INFO os_vif [req-1ce893ee-4629-452b-91f5-616ac72dde70] Successfully plugged vif VIFOpenVSwitch...\n",
      "Labels: {'mixed': np.int64(1057), 'abnormal1': np.int64(1)}\n",
      "\n",
      "--- CLUSTER 22 (size: 864) ---\n",
      "1. WARNING nova.compute.manager [req-4bb84547-f92d-49c5-95ec-21344ac97aee req-d0849c06-6a1a-4dd9-97b9-4...\n",
      "2. WARNING nova.compute.manager [req-13758bff-753c-498b-a624-243d9725ad2a] [instance: 88e23ffe-5f19-4f5...\n",
      "3. WARNING nova.compute.manager [req-8a28a3f3-5a5e-4c42-bf28-942bb3893c2e] [instance: 8192614e-4a86-47c...\n",
      "Labels: {'abnormal1': np.int64(553), 'mixed': np.int64(197), 'abnormal2': np.int64(114)}\n",
      "\n",
      "--- CLUSTER 23 (size: 606) ---\n",
      "1. INFO nova.compute.manager [req-4085f86a-3439-4064-a534-8ee821d5b295 req-70843842-63e6-4b5f-9c9a-31e1...\n",
      "2. INFO nova.compute.manager [req-7169c371-e465-4bef-b096-0edec76ac4c3 req-150d0af5-9be6-45b3-ba19-8cf2...\n",
      "3. INFO nova.compute.manager [req-89a6ad03-3f0d-40fd-bb00-5d5bbec22398 req-0cd45a27-1dda-4e10-8435-f34b...\n",
      "Labels: {'normal': np.int64(465), 'abnormal1': np.int64(73), 'mixed': np.int64(35), 'abnormal2': np.int64(33)}\n",
      "\n",
      "--- CLUSTER 24 (size: 659) ---\n",
      "1. <nova:creationTime>2021-04-17 13:16:16</nova:creationTime>...\n",
      "2. <nova:creationTime>2021-04-17 12:39:47</nova:creationTime>...\n",
      "3. <nova:name>fault-testing-vm-39</nova:name>...\n",
      "Labels: {'abnormal2': np.int64(625), 'abnormal1': np.int64(29), 'mixed': np.int64(3), 'abnormal3': np.int64(2)}\n"
     ]
    }
   ],
   "source": [
    "# Use your KMeans results and analyze cluster content\n",
    "import collections\n",
    "\n",
    "# Analyze what's in each cluster\n",
    "print(\"=== CLUSTER CONTENT ANALYSIS ===\")\n",
    "for cluster_id in range(25):  # Top 5 clusters\n",
    "    cluster_logs = df[df['cluster_id'] == cluster_id]\n",
    "    print(f\"\\n--- CLUSTER {cluster_id} (size: {len(cluster_logs)}) ---\")\n",
    "    \n",
    "    # Sample logs\n",
    "    sample_logs = cluster_logs['raw_log_text'].head(3)\n",
    "    for i, log in enumerate(sample_logs, 1):\n",
    "        print(f\"{i}. {log[:100]}...\")\n",
    "    \n",
    "    # Label distribution in this cluster\n",
    "    label_dist = cluster_logs['label'].value_counts()\n",
    "    print(f\"Labels: {dict(label_dist)}\")\n"
   ]
  },
  {
   "cell_type": "code",
   "execution_count": 24,
   "id": "6991fd62-2295-42a4-ad3a-6a32650ead63",
   "metadata": {},
   "outputs": [
    {
     "name": "stdout",
     "output_type": "stream",
     "text": [
      "Dataset shape: (54646, 5)\n",
      "Columns: ['log_id', 'raw_log_text', 'source_file', 'label', 'cluster_id']\n",
      "Cluster distribution:\n",
      "cluster_id\n",
      "0     2887\n",
      "1     5268\n",
      "2     3285\n",
      "3     2967\n",
      "4     3643\n",
      "5     2467\n",
      "6     2462\n",
      "7     2500\n",
      "8     4507\n",
      "9     1100\n",
      "10    1658\n",
      "11    2693\n",
      "12    2241\n",
      "13     937\n",
      "14    1188\n",
      "15    1941\n",
      "16     807\n",
      "17    1352\n",
      "18    4405\n",
      "19    1130\n",
      "20    2021\n",
      "21    1058\n",
      "22     864\n",
      "23     606\n",
      "24     659\n",
      "Name: count, dtype: int64\n"
     ]
    }
   ],
   "source": [
    "# Save your clustered DataFrame (the one with cluster_id column)\n",
    "df.to_csv('../data/nova_logs_clustered.csv', index=False)\n",
    "\n",
    "# Verify it was saved correctly\n",
    "print(f\"Dataset shape: {df.shape}\")\n",
    "print(f\"Columns: {df.columns.tolist()}\")\n",
    "print(f\"Cluster distribution:\")\n",
    "print(df['cluster_id'].value_counts().sort_index())\n"
   ]
  }
 ],
 "metadata": {
  "kernelspec": {
   "display_name": "Python 3 (ipykernel)",
   "language": "python",
   "name": "python3"
  },
  "language_info": {
   "codemirror_mode": {
    "name": "ipython",
    "version": 3
   },
   "file_extension": ".py",
   "mimetype": "text/x-python",
   "name": "python",
   "nbconvert_exporter": "python",
   "pygments_lexer": "ipython3",
   "version": "3.12.10"
  }
 },
 "nbformat": 4,
 "nbformat_minor": 5
}
