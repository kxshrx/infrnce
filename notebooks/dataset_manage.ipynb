{
 "cells": [
  {
   "cell_type": "code",
   "execution_count": 25,
   "id": "178a64e3-a402-4d1b-a511-fb502b2a393c",
   "metadata": {},
   "outputs": [
    {
     "name": "stdout",
     "output_type": "stream",
     "text": [
      "Final dataset: 54646 logs\n",
      "label\n",
      "mixed        17405\n",
      "normal       15000\n",
      "abnormal2    10473\n",
      "abnormal1     8177\n",
      "abnormal3     3591\n",
      "Name: count, dtype: int64\n",
      "Saved manageable dataset for clustering and downstream stages\n"
     ]
    }
   ],
   "source": [
    "import pandas as pd\n",
    "\n",
    "# Load your current cleaned dataset\n",
    "df = pd.read_csv('../data/nova_logs_cleaned.csv')  # Your Stage 1 output\n",
    "\n",
    "# Apply the sampling strategy\n",
    "abnormal_logs = df[df['label'] != 'normal']\n",
    "normal_logs = df[df['label'] == 'normal'].sample(n=15000, random_state=42)\n",
    "\n",
    "# Combine for balanced, manageable dataset\n",
    "df_manageable = pd.concat([abnormal_logs, normal_logs], ignore_index=True)\n",
    "df_manageable = df_manageable.sample(frac=1, random_state=42).reset_index(drop=True)\n",
    "\n",
    "print(f\"Final dataset: {len(df_manageable)} logs\")\n",
    "print(df_manageable['label'].value_counts())\n",
    "\n",
    "# Save the manageable dataset for Stage 2 and beyond\n",
    "df_manageable.to_csv('../data/nova_logs_manageable.csv', index=False)\n",
    "print(\"Saved manageable dataset for clustering and downstream stages\")\n"
   ]
  },
  {
   "cell_type": "code",
   "execution_count": 26,
   "id": "e8407e75-04ef-4e20-aabb-3c995ea829a0",
   "metadata": {},
   "outputs": [
    {
     "data": {
      "text/html": [
       "<div>\n",
       "<style scoped>\n",
       "    .dataframe tbody tr th:only-of-type {\n",
       "        vertical-align: middle;\n",
       "    }\n",
       "\n",
       "    .dataframe tbody tr th {\n",
       "        vertical-align: top;\n",
       "    }\n",
       "\n",
       "    .dataframe thead th {\n",
       "        text-align: right;\n",
       "    }\n",
       "</style>\n",
       "<table border=\"1\" class=\"dataframe\">\n",
       "  <thead>\n",
       "    <tr style=\"text-align: right;\">\n",
       "      <th></th>\n",
       "      <th>log_id</th>\n",
       "      <th>raw_log_text</th>\n",
       "      <th>source_file</th>\n",
       "      <th>label</th>\n",
       "    </tr>\n",
       "  </thead>\n",
       "  <tbody>\n",
       "    <tr>\n",
       "      <th>0</th>\n",
       "      <td>26204</td>\n",
       "      <td>WARNING oslo.service.loopingcall [-] Function ...</td>\n",
       "      <td>../data/openstack-nova-undefine-vm-after-creat...</td>\n",
       "      <td>abnormal2</td>\n",
       "    </tr>\n",
       "    <tr>\n",
       "      <th>1</th>\n",
       "      <td>20962</td>\n",
       "      <td>INFO nova.compute.manager [req-b9d6411c-b3ea-4...</td>\n",
       "      <td>../data/openstack-nova-sample.log</td>\n",
       "      <td>mixed</td>\n",
       "    </tr>\n",
       "    <tr>\n",
       "      <th>2</th>\n",
       "      <td>43989</td>\n",
       "      <td>ERROR nova.compute.manager [instance: c265f382...</td>\n",
       "      <td>../data/openstack-nova-undefine-vm-after-creat...</td>\n",
       "      <td>abnormal2</td>\n",
       "    </tr>\n",
       "    <tr>\n",
       "      <th>3</th>\n",
       "      <td>12752</td>\n",
       "      <td>INFO nova.compute.manager [req-ac9f5721-5c52-4...</td>\n",
       "      <td>../data/openstack-nova-sample.log</td>\n",
       "      <td>mixed</td>\n",
       "    </tr>\n",
       "    <tr>\n",
       "      <th>4</th>\n",
       "      <td>9605</td>\n",
       "      <td>INFO nova.compute.manager [None req-0f69838f-e...</td>\n",
       "      <td>../data/openstack-vm-destroy-immediately-after...</td>\n",
       "      <td>abnormal1</td>\n",
       "    </tr>\n",
       "  </tbody>\n",
       "</table>\n",
       "</div>"
      ],
      "text/plain": [
       "   log_id                                       raw_log_text  \\\n",
       "0   26204  WARNING oslo.service.loopingcall [-] Function ...   \n",
       "1   20962  INFO nova.compute.manager [req-b9d6411c-b3ea-4...   \n",
       "2   43989  ERROR nova.compute.manager [instance: c265f382...   \n",
       "3   12752  INFO nova.compute.manager [req-ac9f5721-5c52-4...   \n",
       "4    9605  INFO nova.compute.manager [None req-0f69838f-e...   \n",
       "\n",
       "                                         source_file      label  \n",
       "0  ../data/openstack-nova-undefine-vm-after-creat...  abnormal2  \n",
       "1                  ../data/openstack-nova-sample.log      mixed  \n",
       "2  ../data/openstack-nova-undefine-vm-after-creat...  abnormal2  \n",
       "3                  ../data/openstack-nova-sample.log      mixed  \n",
       "4  ../data/openstack-vm-destroy-immediately-after...  abnormal1  "
      ]
     },
     "execution_count": 26,
     "metadata": {},
     "output_type": "execute_result"
    }
   ],
   "source": [
    "df = pd.read_csv('../data/nova_logs_manageable.csv')\n",
    "df.head()"
   ]
  },
  {
   "cell_type": "code",
   "execution_count": 27,
   "id": "8ec2a62d-50e1-42ca-87bb-ab0c7e963164",
   "metadata": {},
   "outputs": [
    {
     "data": {
      "text/plain": [
       "(54646, 4)"
      ]
     },
     "execution_count": 27,
     "metadata": {},
     "output_type": "execute_result"
    }
   ],
   "source": [
    "df.shape"
   ]
  },
  {
   "cell_type": "code",
   "execution_count": 28,
   "id": "8d965fc2-95f0-46ce-9ffc-a391374f23df",
   "metadata": {},
   "outputs": [
    {
     "data": {
      "text/plain": [
       "['log_id', 'raw_log_text', 'source_file', 'label']"
      ]
     },
     "execution_count": 28,
     "metadata": {},
     "output_type": "execute_result"
    }
   ],
   "source": [
    "df.columns.tolist()\n"
   ]
  },
  {
   "cell_type": "code",
   "execution_count": 29,
   "id": "07f3db28-1e5b-4622-9a44-5aa58d03554e",
   "metadata": {},
   "outputs": [
    {
     "data": {
      "text/plain": [
       "log_id           int64\n",
       "raw_log_text    object\n",
       "source_file     object\n",
       "label           object\n",
       "dtype: object"
      ]
     },
     "execution_count": 29,
     "metadata": {},
     "output_type": "execute_result"
    }
   ],
   "source": [
    "df.dtypes"
   ]
  },
  {
   "cell_type": "code",
   "execution_count": 30,
   "id": "7a0579bb-83e4-49da-b87b-25b60659c502",
   "metadata": {},
   "outputs": [
    {
     "data": {
      "text/plain": [
       "log_id          0\n",
       "raw_log_text    0\n",
       "source_file     0\n",
       "label           0\n",
       "dtype: int64"
      ]
     },
     "execution_count": 30,
     "metadata": {},
     "output_type": "execute_result"
    }
   ],
   "source": [
    "df.isnull().sum()"
   ]
  },
  {
   "cell_type": "code",
   "execution_count": 31,
   "id": "ad72b638-0540-4c3c-909c-9441a7cba155",
   "metadata": {},
   "outputs": [
    {
     "name": "stdout",
     "output_type": "stream",
     "text": [
      "label\n",
      "mixed        17405\n",
      "normal       15000\n",
      "abnormal2    10473\n",
      "abnormal1     8177\n",
      "abnormal3     3591\n",
      "Name: count, dtype: int64\n",
      "Label percentages:\n",
      "label\n",
      "mixed        31.850456\n",
      "normal       27.449402\n",
      "abnormal2    19.165172\n",
      "abnormal1    14.963584\n",
      "abnormal3     6.571387\n",
      "Name: proportion, dtype: float64\n"
     ]
    }
   ],
   "source": [
    "label_counts = df['label'].value_counts()\n",
    "print(label_counts)\n",
    "print(f\"Label percentages:\\n{df['label'].value_counts(normalize=True) * 100}\")"
   ]
  },
  {
   "cell_type": "code",
   "execution_count": 32,
   "id": "e92c65d4-a201-4627-8d73-938393a3d9cf",
   "metadata": {},
   "outputs": [
    {
     "name": "stdout",
     "output_type": "stream",
     "text": [
      "Min length: 4\n",
      "Max length: 4658\n",
      "Mean length: 184.81\n",
      "Median length: 161.0\n"
     ]
    }
   ],
   "source": [
    "df['text_length'] = df['raw_log_text'].str.len()\n",
    "print(f\"Min length: {df['text_length'].min()}\")\n",
    "print(f\"Max length: {df['text_length'].max()}\")\n",
    "print(f\"Mean length: {df['text_length'].mean():.2f}\")\n",
    "print(f\"Median length: {df['text_length'].median()}\")\n"
   ]
  },
  {
   "cell_type": "code",
   "execution_count": 33,
   "id": "c2bed5c9-7b04-4d63-a489-0383f32b3322",
   "metadata": {},
   "outputs": [
    {
     "name": "stdout",
     "output_type": "stream",
     "text": [
      "\n",
      "--- ABNORMAL2 LOGS (sample) ---\n",
      "1. WARNING oslo.service.loopingcall [-] Function 'nova.virt.libvirt.driver.LibvirtDriver.spawn.<locals>...\n",
      "2. ERROR nova.compute.manager [instance: c265f382-e5d8-44fb-98c8-84abd4592037]     self.force_reraise()...\n",
      "3. <entry name='serial'>f41265c7-0cc0-4212-8ab4-89626d362895</entry>...\n",
      "\n",
      "--- MIXED LOGS (sample) ---\n",
      "1. INFO nova.compute.manager [req-b9d6411c-b3ea-4307-a707-ec546b0192b3] [instance: 8192614e-4a86-47cc-a...\n",
      "2. INFO nova.compute.manager [req-ac9f5721-5c52-4ec3-ba8a-e494d9780d53] [instance: fd750099-65bf-4119-b...\n",
      "3. INFO nova.compute.manager [req-46123093-5f3c-4ff2-b9a3-b013b39f3f26] [instance: 26fa461c-54bc-4aaf-a...\n",
      "\n",
      "--- ABNORMAL1 LOGS (sample) ---\n",
      "1. INFO nova.compute.manager [None req-0f69838f-e506-4e79-9b37-85b2cba0ab35 None None] [instance: dc040...\n",
      "2. INFO nova.compute.manager [None req-46123093-5f3c-4ff2-b9a3-b013b39f3f26 None None] [instance: 92de5...\n",
      "3. INFO nova.compute.manager [None req-eb337492-dfed-408c-89f6-433726e82021 None None] [instance: 056fd...\n",
      "\n",
      "--- NORMAL LOGS (sample) ---\n",
      "1. INFO nova.compute.manager [None req-ac9f5721-5c52-4ec3-ba8a-e494d9780d53 None None] [instance: eb5e0...\n",
      "2. INFO nova.compute.manager [None req-51a7529f-cd0f-4739-8169-8fba5bbb3181 admin admin] [instance: ae7...\n",
      "3. INFO os_vif [None req-7c6fa9c3-a70a-42f3-bc33-96544dea14ed admin admin] Successfully unplugged vif V...\n",
      "\n",
      "--- ABNORMAL3 LOGS (sample) ---\n",
      "1. INFO nova.compute.manager [req-d96524cb-6283-416d-95af-d47508fa2ec5] [instance: a88e00c7-5cdc-4165-a...\n",
      "2. ERROR nova.compute.manager [req-cd270dcf-80de-4ca9-8c1a-9de0df59e906] [instance: f1433bbf-897d-45e8-...\n",
      "3. INFO nova.compute.manager [req-d96524cb-6283-416d-95af-d47508fa2ec5] [instance: b3473a31-1c84-4da4-b...\n"
     ]
    }
   ],
   "source": [
    "for label in df['label'].unique():\n",
    "    print(f\"\\n--- {label.upper()} LOGS (sample) ---\")\n",
    "    sample_logs = df[df['label'] == label]['raw_log_text'].head(3)\n",
    "    for i, log in enumerate(sample_logs, 1):\n",
    "        print(f\"{i}. {log[:100]}...\")"
   ]
  },
  {
   "cell_type": "code",
   "execution_count": 34,
   "id": "1325c3b8-d5bd-41d4-b27e-cdd89a75346f",
   "metadata": {},
   "outputs": [
    {
     "name": "stdout",
     "output_type": "stream",
     "text": [
      "Total logs: 54646\n",
      "Unique logs: 54646\n",
      "Duplicate logs: 0 (0.00%)\n"
     ]
    }
   ],
   "source": [
    "total_logs = len(df)\n",
    "unique_logs = df['raw_log_text'].nunique()\n",
    "duplicates = total_logs - unique_logs\n",
    "print(f\"Total logs: {total_logs}\")\n",
    "print(f\"Unique logs: {unique_logs}\")\n",
    "print(f\"Duplicate logs: {duplicates} ({duplicates/total_logs*100:.2f}%)\")\n"
   ]
  },
  {
   "cell_type": "code",
   "execution_count": 35,
   "id": "34482ede-0604-4833-b4bd-24a4995bcb8c",
   "metadata": {},
   "outputs": [
    {
     "name": "stdout",
     "output_type": "stream",
     "text": [
      "Most common log prefixes:\n",
      "log_prefix\n",
      "INFO nova.compute.manager [None                                         10120\n",
      "ERROR nova.compute.manager [instance:                                    3929\n",
      "INFO nova.compute.manager [req-ac9f5721-5c52-4ec3-ba8a-e494d9780d53]     3886\n",
      "INFO nova.virt.libvirt.driver [None                                      3058\n",
      "INFO nova.compute.manager [-]                                            2473\n",
      "INFO nova.virt.libvirt.driver [-]                                        2233\n",
      "INFO os_vif [None                                                        2050\n",
      "INFO nova.scheduler.client.report [None                                   961\n",
      "INFO nova.compute.claims [None                                            954\n",
      "INFO nova.compute.manager [req-d96524cb-6283-416d-95af-d47508fa2ec5]      596\n",
      "Name: count, dtype: int64\n"
     ]
    }
   ],
   "source": [
    "df['log_prefix'] = df['raw_log_text'].str.split().str[:3].str.join(' ')\n",
    "common_prefixes = df['log_prefix'].value_counts().head(10)\n",
    "print(\"Most common log prefixes:\")\n",
    "print(common_prefixes)"
   ]
  }
 ],
 "metadata": {
  "kernelspec": {
   "display_name": "Python 3 (ipykernel)",
   "language": "python",
   "name": "python3"
  },
  "language_info": {
   "codemirror_mode": {
    "name": "ipython",
    "version": 3
   },
   "file_extension": ".py",
   "mimetype": "text/x-python",
   "name": "python",
   "nbconvert_exporter": "python",
   "pygments_lexer": "ipython3",
   "version": "3.12.10"
  }
 },
 "nbformat": 4,
 "nbformat_minor": 5
}
