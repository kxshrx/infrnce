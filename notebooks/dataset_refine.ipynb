{
 "cells": [
  {
   "cell_type": "code",
   "execution_count": 34,
   "id": "8cd1d0d5-d5d7-4a15-a779-a35023dcc532",
   "metadata": {},
   "outputs": [],
   "source": [
    "import pandas as pd\n",
    "import matplotlib.pyplot as plt\n",
    "import seaborn as sns\n",
    "\n",
    "df = pd.read_csv('../data/nova_logs_cleaned.csv') "
   ]
  },
  {
   "cell_type": "code",
   "execution_count": 35,
   "id": "24003936-5cd5-4d7b-8a0f-b4d77658b591",
   "metadata": {},
   "outputs": [
    {
     "data": {
      "text/html": [
       "<div>\n",
       "<style scoped>\n",
       "    .dataframe tbody tr th:only-of-type {\n",
       "        vertical-align: middle;\n",
       "    }\n",
       "\n",
       "    .dataframe tbody tr th {\n",
       "        vertical-align: top;\n",
       "    }\n",
       "\n",
       "    .dataframe thead th {\n",
       "        text-align: right;\n",
       "    }\n",
       "</style>\n",
       "<table border=\"1\" class=\"dataframe\">\n",
       "  <thead>\n",
       "    <tr style=\"text-align: right;\">\n",
       "      <th></th>\n",
       "      <th>log_id</th>\n",
       "      <th>raw_log_text</th>\n",
       "      <th>source_file</th>\n",
       "      <th>label</th>\n",
       "    </tr>\n",
       "  </thead>\n",
       "  <tbody>\n",
       "    <tr>\n",
       "      <th>0</th>\n",
       "      <td>0</td>\n",
       "      <td>INFO nova.compute.claims [None req-a4498d64-47...</td>\n",
       "      <td>../data/openstack-nova-normal-vm-create.log</td>\n",
       "      <td>normal</td>\n",
       "    </tr>\n",
       "    <tr>\n",
       "      <th>1</th>\n",
       "      <td>1</td>\n",
       "      <td>INFO nova.virt.libvirt.driver [None req-a4498d...</td>\n",
       "      <td>../data/openstack-nova-normal-vm-create.log</td>\n",
       "      <td>normal</td>\n",
       "    </tr>\n",
       "    <tr>\n",
       "      <th>2</th>\n",
       "      <td>2</td>\n",
       "      <td>INFO os_vif [None req-a4498d64-47bb-491f-adde-...</td>\n",
       "      <td>../data/openstack-nova-normal-vm-create.log</td>\n",
       "      <td>normal</td>\n",
       "    </tr>\n",
       "    <tr>\n",
       "      <th>3</th>\n",
       "      <td>3</td>\n",
       "      <td>INFO nova.compute.manager [None req-ac9f5721-5...</td>\n",
       "      <td>../data/openstack-nova-normal-vm-create.log</td>\n",
       "      <td>normal</td>\n",
       "    </tr>\n",
       "    <tr>\n",
       "      <th>4</th>\n",
       "      <td>4</td>\n",
       "      <td>INFO nova.compute.manager [None req-ac9f5721-5...</td>\n",
       "      <td>../data/openstack-nova-normal-vm-create.log</td>\n",
       "      <td>normal</td>\n",
       "    </tr>\n",
       "    <tr>\n",
       "      <th>5</th>\n",
       "      <td>5</td>\n",
       "      <td>INFO nova.compute.manager [None req-ac9f5721-5...</td>\n",
       "      <td>../data/openstack-nova-normal-vm-create.log</td>\n",
       "      <td>normal</td>\n",
       "    </tr>\n",
       "    <tr>\n",
       "      <th>6</th>\n",
       "      <td>6</td>\n",
       "      <td>INFO nova.compute.manager [None req-ac9f5721-5...</td>\n",
       "      <td>../data/openstack-nova-normal-vm-create.log</td>\n",
       "      <td>normal</td>\n",
       "    </tr>\n",
       "    <tr>\n",
       "      <th>7</th>\n",
       "      <td>7</td>\n",
       "      <td>INFO nova.virt.libvirt.driver [-] [instance: 1...</td>\n",
       "      <td>../data/openstack-nova-normal-vm-create.log</td>\n",
       "      <td>normal</td>\n",
       "    </tr>\n",
       "    <tr>\n",
       "      <th>8</th>\n",
       "      <td>8</td>\n",
       "      <td>INFO nova.compute.manager [None req-a4498d64-4...</td>\n",
       "      <td>../data/openstack-nova-normal-vm-create.log</td>\n",
       "      <td>normal</td>\n",
       "    </tr>\n",
       "    <tr>\n",
       "      <th>9</th>\n",
       "      <td>9</td>\n",
       "      <td>INFO nova.compute.claims [None req-e665dbf5-dc...</td>\n",
       "      <td>../data/openstack-nova-normal-vm-create.log</td>\n",
       "      <td>normal</td>\n",
       "    </tr>\n",
       "  </tbody>\n",
       "</table>\n",
       "</div>"
      ],
      "text/plain": [
       "   log_id                                       raw_log_text  \\\n",
       "0       0  INFO nova.compute.claims [None req-a4498d64-47...   \n",
       "1       1  INFO nova.virt.libvirt.driver [None req-a4498d...   \n",
       "2       2  INFO os_vif [None req-a4498d64-47bb-491f-adde-...   \n",
       "3       3  INFO nova.compute.manager [None req-ac9f5721-5...   \n",
       "4       4  INFO nova.compute.manager [None req-ac9f5721-5...   \n",
       "5       5  INFO nova.compute.manager [None req-ac9f5721-5...   \n",
       "6       6  INFO nova.compute.manager [None req-ac9f5721-5...   \n",
       "7       7  INFO nova.virt.libvirt.driver [-] [instance: 1...   \n",
       "8       8  INFO nova.compute.manager [None req-a4498d64-4...   \n",
       "9       9  INFO nova.compute.claims [None req-e665dbf5-dc...   \n",
       "\n",
       "                                   source_file   label  \n",
       "0  ../data/openstack-nova-normal-vm-create.log  normal  \n",
       "1  ../data/openstack-nova-normal-vm-create.log  normal  \n",
       "2  ../data/openstack-nova-normal-vm-create.log  normal  \n",
       "3  ../data/openstack-nova-normal-vm-create.log  normal  \n",
       "4  ../data/openstack-nova-normal-vm-create.log  normal  \n",
       "5  ../data/openstack-nova-normal-vm-create.log  normal  \n",
       "6  ../data/openstack-nova-normal-vm-create.log  normal  \n",
       "7  ../data/openstack-nova-normal-vm-create.log  normal  \n",
       "8  ../data/openstack-nova-normal-vm-create.log  normal  \n",
       "9  ../data/openstack-nova-normal-vm-create.log  normal  "
      ]
     },
     "execution_count": 35,
     "metadata": {},
     "output_type": "execute_result"
    }
   ],
   "source": [
    "df.head(10)"
   ]
  },
  {
   "cell_type": "code",
   "execution_count": null,
   "id": "f74ad82b-ee4b-44a2-a8cf-be6f92fa33f8",
   "metadata": {},
   "outputs": [],
   "source": []
  },
  {
   "cell_type": "code",
   "execution_count": 36,
   "id": "e0a1a78c-d88f-4880-9462-52648d1dcaa7",
   "metadata": {},
   "outputs": [
    {
     "name": "stdout",
     "output_type": "stream",
     "text": [
      "Dataset shape: (137540, 4)\n",
      "Columns: ['log_id', 'raw_log_text', 'source_file', 'label']\n"
     ]
    }
   ],
   "source": [
    "print(f\"Dataset shape: {df.shape}\")\n",
    "print(f\"Columns: {df.columns.tolist()}\")\n"
   ]
  },
  {
   "cell_type": "code",
   "execution_count": 37,
   "id": "285b16b3-201f-4460-8b81-fb6c795b5f0a",
   "metadata": {},
   "outputs": [
    {
     "name": "stdout",
     "output_type": "stream",
     "text": [
      "Data types:\n",
      "log_id           int64\n",
      "raw_log_text    object\n",
      "source_file     object\n",
      "label           object\n",
      "dtype: object\n",
      "Memory usage: 51.82 MB\n"
     ]
    }
   ],
   "source": [
    "print(f\"Data types:\\n{df.dtypes}\")\n",
    "print(f\"Memory usage: {df.memory_usage(deep=True).sum() / 1024**2:.2f} MB\")"
   ]
  },
  {
   "cell_type": "code",
   "execution_count": 38,
   "id": "c64904a8-dd65-4558-a52d-835c978aecea",
   "metadata": {},
   "outputs": [
    {
     "name": "stdout",
     "output_type": "stream",
     "text": [
      "log_id          0\n",
      "raw_log_text    0\n",
      "source_file     0\n",
      "label           0\n",
      "dtype: int64\n"
     ]
    }
   ],
   "source": [
    "print(df.isnull().sum())"
   ]
  },
  {
   "cell_type": "code",
   "execution_count": 39,
   "id": "b2e577c9-1aab-442e-916e-142963d873ff",
   "metadata": {},
   "outputs": [
    {
     "name": "stdout",
     "output_type": "stream",
     "text": [
      "label\n",
      "normal       97894\n",
      "mixed        17405\n",
      "abnormal2    10473\n",
      "abnormal1     8177\n",
      "abnormal3     3591\n",
      "Name: count, dtype: int64\n",
      "Label percentages:\n",
      "label\n",
      "normal       71.174931\n",
      "mixed        12.654501\n",
      "abnormal2     7.614512\n",
      "abnormal1     5.945180\n",
      "abnormal3     2.610877\n",
      "Name: proportion, dtype: float64\n"
     ]
    }
   ],
   "source": [
    "label_counts = df['label'].value_counts()\n",
    "print(label_counts)\n",
    "print(f\"Label percentages:\\n{df['label'].value_counts(normalize=True) * 100}\")"
   ]
  },
  {
   "cell_type": "code",
   "execution_count": 40,
   "id": "2329fb47-3409-4eea-8c75-18e6315a272c",
   "metadata": {},
   "outputs": [
    {
     "name": "stdout",
     "output_type": "stream",
     "text": [
      "Min length: 4\n",
      "Max length: 4658\n",
      "Mean length: 190.78\n",
      "Median length: 162.0\n"
     ]
    }
   ],
   "source": [
    "df['text_length'] = df['raw_log_text'].str.len()\n",
    "print(f\"Min length: {df['text_length'].min()}\")\n",
    "print(f\"Max length: {df['text_length'].max()}\")\n",
    "print(f\"Mean length: {df['text_length'].mean():.2f}\")\n",
    "print(f\"Median length: {df['text_length'].median()}\")\n"
   ]
  },
  {
   "cell_type": "code",
   "execution_count": 41,
   "id": "01c651b5-b6a0-4fc8-9ca8-bffed7f119e7",
   "metadata": {},
   "outputs": [
    {
     "name": "stdout",
     "output_type": "stream",
     "text": [
      "\n",
      "--- NORMAL LOGS (sample) ---\n",
      "1. INFO nova.compute.claims [None req-a4498d64-47bb-491f-adde-effccaba43f0 admin admin] [instance: 1176...\n",
      "2. INFO nova.virt.libvirt.driver [None req-a4498d64-47bb-491f-adde-effccaba43f0 admin admin] [instance:...\n",
      "3. INFO os_vif [None req-a4498d64-47bb-491f-adde-effccaba43f0 admin admin] Successfully plugged vif VIF...\n",
      "\n",
      "--- ABNORMAL1 LOGS (sample) ---\n",
      "1. INFO nova.compute.claims [None req-e47da3d5-a6e4-42de-a382-c9005209a73f admin admin] [instance: afcf...\n",
      "2. INFO nova.virt.libvirt.driver [None req-e47da3d5-a6e4-42de-a382-c9005209a73f admin admin] [instance:...\n",
      "3. ERROR nova.virt.libvirt.imagebackend [None req-e47da3d5-a6e4-42de-a382-c9005209a73f admin admin] /op...\n",
      "\n",
      "--- ABNORMAL2 LOGS (sample) ---\n",
      "1. INFO nova.compute.claims [req-569df606-8ce5-4227-a7a3-8a47e476aad8] [instance: 11e8dd0e-df7c-44bc-84...\n",
      "2. INFO nova.virt.libvirt.driver [req-569df606-8ce5-4227-a7a3-8a47e476aad8] [instance: 11e8dd0e-df7c-44...\n",
      "3. INFO os_vif [req-569df606-8ce5-4227-a7a3-8a47e476aad8] Successfully plugged vif VIFOpenVSwitch(activ...\n",
      "\n",
      "--- ABNORMAL3 LOGS (sample) ---\n",
      "1. INFO nova.virt.libvirt.driver [req-d69a3cb3-66dd-4109-bb97-418a7773c6a0] [instance: fa91d7de-0896-41...\n",
      "2. INFO oslo.privsep.daemon [req-d69a3cb3-66dd-4109-bb97-418a7773c6a0] Running privsep helper: ['sudo',...\n",
      "3. INFO oslo.privsep.daemon [req-d69a3cb3-66dd-4109-bb97-418a7773c6a0] Spawned new privsep daemon via r...\n",
      "\n",
      "--- MIXED LOGS (sample) ---\n",
      "1. INFO nova.compute.claims [req-a4498d64-47bb-491f-adde-effccaba43f0] [instance: 11760334-ac63-4cc8-90...\n",
      "2. INFO nova.virt.libvirt.driver [req-a4498d64-47bb-491f-adde-effccaba43f0] [instance: 11760334-ac63-4c...\n",
      "3. INFO os_vif [req-a4498d64-47bb-491f-adde-effccaba43f0] Successfully plugged vif VIFOpenVSwitch...\n"
     ]
    }
   ],
   "source": [
    "for label in df['label'].unique():\n",
    "    print(f\"\\n--- {label.upper()} LOGS (sample) ---\")\n",
    "    sample_logs = df[df['label'] == label]['raw_log_text'].head(3)\n",
    "    for i, log in enumerate(sample_logs, 1):\n",
    "        print(f\"{i}. {log[:100]}...\")"
   ]
  },
  {
   "cell_type": "code",
   "execution_count": 42,
   "id": "861b5740-48d4-4b22-9161-621b9058f6e0",
   "metadata": {},
   "outputs": [
    {
     "name": "stdout",
     "output_type": "stream",
     "text": [
      "Total logs: 137540\n",
      "Unique logs: 137540\n",
      "Duplicate logs: 0 (0.00%)\n"
     ]
    }
   ],
   "source": [
    "total_logs = len(df)\n",
    "unique_logs = df['raw_log_text'].nunique()\n",
    "duplicates = total_logs - unique_logs\n",
    "print(f\"Total logs: {total_logs}\")\n",
    "print(f\"Unique logs: {unique_logs}\")\n",
    "print(f\"Duplicate logs: {duplicates} ({duplicates/total_logs*100:.2f}%)\")\n"
   ]
  },
  {
   "cell_type": "code",
   "execution_count": 43,
   "id": "63aa7cb6-3368-4aba-8d3e-a3f302b4790e",
   "metadata": {},
   "outputs": [
    {
     "name": "stdout",
     "output_type": "stream",
     "text": [
      "Most common log prefixes:\n",
      "log_prefix\n",
      "INFO nova.compute.manager [None                                         43361\n",
      "INFO nova.virt.libvirt.driver [None                                     15581\n",
      "INFO nova.compute.manager [-]                                           11254\n",
      "INFO nova.virt.libvirt.driver [-]                                       10593\n",
      "INFO os_vif [None                                                       10444\n",
      "INFO nova.compute.claims [None                                           5141\n",
      "INFO nova.scheduler.client.report [None                                  5134\n",
      "ERROR nova.compute.manager [instance:                                    3929\n",
      "INFO nova.compute.manager [req-ac9f5721-5c52-4ec3-ba8a-e494d9780d53]     3886\n",
      "INFO nova.compute.manager [req-d96524cb-6283-416d-95af-d47508fa2ec5]      596\n",
      "Name: count, dtype: int64\n"
     ]
    }
   ],
   "source": [
    "df['log_prefix'] = df['raw_log_text'].str.split().str[:3].str.join(' ')\n",
    "common_prefixes = df['log_prefix'].value_counts().head(10)\n",
    "print(\"Most common log prefixes:\")\n",
    "print(common_prefixes)"
   ]
  },
  {
   "cell_type": "code",
   "execution_count": 44,
   "id": "317ec299-73c6-4c2c-a7e5-205016a49d8f",
   "metadata": {},
   "outputs": [
    {
     "data": {
      "text/plain": [
       "Index(['log_id', 'raw_log_text', 'source_file', 'label', 'text_length',\n",
       "       'log_prefix'],\n",
       "      dtype='object')"
      ]
     },
     "execution_count": 44,
     "metadata": {},
     "output_type": "execute_result"
    }
   ],
   "source": [
    "df.columns"
   ]
  },
  {
   "cell_type": "code",
   "execution_count": 45,
   "id": "c031cb84-c91c-4b13-9920-7cd388eaedeb",
   "metadata": {},
   "outputs": [
    {
     "data": {
      "text/html": [
       "<div>\n",
       "<style scoped>\n",
       "    .dataframe tbody tr th:only-of-type {\n",
       "        vertical-align: middle;\n",
       "    }\n",
       "\n",
       "    .dataframe tbody tr th {\n",
       "        vertical-align: top;\n",
       "    }\n",
       "\n",
       "    .dataframe thead th {\n",
       "        text-align: right;\n",
       "    }\n",
       "</style>\n",
       "<table border=\"1\" class=\"dataframe\">\n",
       "  <thead>\n",
       "    <tr style=\"text-align: right;\">\n",
       "      <th></th>\n",
       "      <th>log_id</th>\n",
       "      <th>raw_log_text</th>\n",
       "      <th>source_file</th>\n",
       "      <th>label</th>\n",
       "      <th>text_length</th>\n",
       "      <th>log_prefix</th>\n",
       "    </tr>\n",
       "  </thead>\n",
       "  <tbody>\n",
       "    <tr>\n",
       "      <th>0</th>\n",
       "      <td>0</td>\n",
       "      <td>INFO nova.compute.claims [None req-a4498d64-47...</td>\n",
       "      <td>../data/openstack-nova-normal-vm-create.log</td>\n",
       "      <td>normal</td>\n",
       "      <td>171</td>\n",
       "      <td>INFO nova.compute.claims [None</td>\n",
       "    </tr>\n",
       "    <tr>\n",
       "      <th>1</th>\n",
       "      <td>1</td>\n",
       "      <td>INFO nova.virt.libvirt.driver [None req-a4498d...</td>\n",
       "      <td>../data/openstack-nova-normal-vm-create.log</td>\n",
       "      <td>normal</td>\n",
       "      <td>153</td>\n",
       "      <td>INFO nova.virt.libvirt.driver [None</td>\n",
       "    </tr>\n",
       "    <tr>\n",
       "      <th>2</th>\n",
       "      <td>2</td>\n",
       "      <td>INFO os_vif [None req-a4498d64-47bb-491f-adde-...</td>\n",
       "      <td>../data/openstack-nova-normal-vm-create.log</td>\n",
       "      <td>normal</td>\n",
       "      <td>396</td>\n",
       "      <td>INFO os_vif [None</td>\n",
       "    </tr>\n",
       "    <tr>\n",
       "      <th>3</th>\n",
       "      <td>3</td>\n",
       "      <td>INFO nova.compute.manager [None req-ac9f5721-5...</td>\n",
       "      <td>../data/openstack-nova-normal-vm-create.log</td>\n",
       "      <td>normal</td>\n",
       "      <td>161</td>\n",
       "      <td>INFO nova.compute.manager [None</td>\n",
       "    </tr>\n",
       "    <tr>\n",
       "      <th>4</th>\n",
       "      <td>4</td>\n",
       "      <td>INFO nova.compute.manager [None req-ac9f5721-5...</td>\n",
       "      <td>../data/openstack-nova-normal-vm-create.log</td>\n",
       "      <td>normal</td>\n",
       "      <td>160</td>\n",
       "      <td>INFO nova.compute.manager [None</td>\n",
       "    </tr>\n",
       "  </tbody>\n",
       "</table>\n",
       "</div>"
      ],
      "text/plain": [
       "   log_id                                       raw_log_text  \\\n",
       "0       0  INFO nova.compute.claims [None req-a4498d64-47...   \n",
       "1       1  INFO nova.virt.libvirt.driver [None req-a4498d...   \n",
       "2       2  INFO os_vif [None req-a4498d64-47bb-491f-adde-...   \n",
       "3       3  INFO nova.compute.manager [None req-ac9f5721-5...   \n",
       "4       4  INFO nova.compute.manager [None req-ac9f5721-5...   \n",
       "\n",
       "                                   source_file   label  text_length  \\\n",
       "0  ../data/openstack-nova-normal-vm-create.log  normal          171   \n",
       "1  ../data/openstack-nova-normal-vm-create.log  normal          153   \n",
       "2  ../data/openstack-nova-normal-vm-create.log  normal          396   \n",
       "3  ../data/openstack-nova-normal-vm-create.log  normal          161   \n",
       "4  ../data/openstack-nova-normal-vm-create.log  normal          160   \n",
       "\n",
       "                            log_prefix  \n",
       "0       INFO nova.compute.claims [None  \n",
       "1  INFO nova.virt.libvirt.driver [None  \n",
       "2                    INFO os_vif [None  \n",
       "3      INFO nova.compute.manager [None  \n",
       "4      INFO nova.compute.manager [None  "
      ]
     },
     "execution_count": 45,
     "metadata": {},
     "output_type": "execute_result"
    }
   ],
   "source": [
    "df.head()"
   ]
  },
  {
   "cell_type": "code",
   "execution_count": 46,
   "id": "d21a7816-9607-4e31-9205-cb2ada12e8b6",
   "metadata": {},
   "outputs": [
    {
     "data": {
      "text/plain": [
       "0                            INFO nova.compute.claims [None\n",
       "1                       INFO nova.virt.libvirt.driver [None\n",
       "2                                         INFO os_vif [None\n",
       "3                           INFO nova.compute.manager [None\n",
       "4                           INFO nova.compute.manager [None\n",
       "                                ...                        \n",
       "137535    WARNING nova.compute.manager [req-35d337a9-a4c...\n",
       "137536    WARNING nova.compute.manager [req-3daf66d4-671...\n",
       "137537    INFO nova.compute.manager [req-1e7f48d9-ddf5-4...\n",
       "137538    INFO nova.compute.manager [req-b4025695-7c8a-4...\n",
       "137539    WARNING nova.compute.manager [req-e294dc58-925...\n",
       "Name: log_prefix, Length: 137540, dtype: object"
      ]
     },
     "execution_count": 46,
     "metadata": {},
     "output_type": "execute_result"
    }
   ],
   "source": [
    "df['log_prefix']"
   ]
  },
  {
   "cell_type": "code",
   "execution_count": 47,
   "id": "8733d17c-d5b4-49fb-a0aa-d96f3a44e793",
   "metadata": {},
   "outputs": [],
   "source": [
    "df.to_csv('../data/nova_logs_refined.csv', index=False)"
   ]
  }
 ],
 "metadata": {
  "kernelspec": {
   "display_name": "Python 3 (ipykernel)",
   "language": "python",
   "name": "python3"
  },
  "language_info": {
   "codemirror_mode": {
    "name": "ipython",
    "version": 3
   },
   "file_extension": ".py",
   "mimetype": "text/x-python",
   "name": "python",
   "nbconvert_exporter": "python",
   "pygments_lexer": "ipython3",
   "version": "3.12.10"
  }
 },
 "nbformat": 4,
 "nbformat_minor": 5
}
