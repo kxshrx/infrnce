{
 "cells": [
  {
   "cell_type": "code",
   "execution_count": 2,
   "id": "db2b471c-46eb-42a3-a01d-3b7ed0356d8b",
   "metadata": {},
   "outputs": [],
   "source": [
    "import pandas as pd\n",
    "import re\n",
    "import collections\n",
    "\n",
    "# Load your clustered dataset\n",
    "df = pd.read_csv('../data/nova_logs_clustered.csv')\n"
   ]
  },
  {
   "cell_type": "code",
   "execution_count": 5,
   "id": "eaa8ec4f-6bf5-41ec-93c6-536ea1ccf1e5",
   "metadata": {},
   "outputs": [
    {
     "data": {
      "text/plain": [
       "54646"
      ]
     },
     "execution_count": 5,
     "metadata": {},
     "output_type": "execute_result"
    }
   ],
   "source": [
    "len(df)"
   ]
  },
  {
   "cell_type": "code",
   "execution_count": 10,
   "id": "bc1d9a77-f086-4fee-aa8f-a9e2fe7600bd",
   "metadata": {},
   "outputs": [
    {
     "name": "stdout",
     "output_type": "stream",
     "text": [
      "Cluster sizes (largest first):\n",
      "Cluster 1: 5268 logs\n",
      "Cluster 8: 4507 logs\n",
      "Cluster 18: 4405 logs\n",
      "Cluster 4: 3643 logs\n",
      "Cluster 2: 3285 logs\n",
      "Cluster 3: 2967 logs\n",
      "Cluster 0: 2887 logs\n",
      "Cluster 11: 2693 logs\n",
      "Cluster 7: 2500 logs\n",
      "Cluster 5: 2467 logs\n",
      "Cluster 6: 2462 logs\n",
      "Cluster 12: 2241 logs\n",
      "Cluster 20: 2021 logs\n",
      "Cluster 15: 1941 logs\n",
      "Cluster 10: 1658 logs\n",
      "Cluster 17: 1352 logs\n",
      "Cluster 14: 1188 logs\n",
      "Cluster 19: 1130 logs\n",
      "Cluster 9: 1100 logs\n",
      "Cluster 21: 1058 logs\n",
      "Cluster 13: 937 logs\n",
      "Cluster 22: 864 logs\n",
      "Cluster 16: 807 logs\n",
      "Cluster 24: 659 logs\n",
      "Cluster 23: 606 logs\n"
     ]
    }
   ],
   "source": [
    "cluster_sizes = df['cluster_id'].value_counts()\n",
    "print(\"Cluster sizes (largest first):\")\n",
    "for cluster_id, size in cluster_sizes.items():\n",
    "    print(f\"Cluster {cluster_id}: {size} logs\")\n"
   ]
  },
  {
   "cell_type": "code",
   "execution_count": 12,
   "id": "848c347d-7447-42e7-8db3-a90184631611",
   "metadata": {},
   "outputs": [
    {
     "name": "stdout",
     "output_type": "stream",
     "text": [
      "Target logs for regex: 21108 (38.6%)\n"
     ]
    }
   ],
   "source": [
    "# Focus on the 5 large clusters for regex\n",
    "large_clusters = [1, 8, 18, 4, 2]\n",
    "regex_target_logs = df[df['cluster_id'].isin(large_clusters)]\n",
    "print(f\"Target logs for regex: {len(regex_target_logs)} ({len(regex_target_logs)/len(df)*100:.1f}%)\")"
   ]
  },
  {
   "cell_type": "code",
   "execution_count": 15,
   "id": "ef738c7d-bd04-4845-b008-76df0201f152",
   "metadata": {},
   "outputs": [
    {
     "name": "stdout",
     "output_type": "stream",
     "text": [
      "\n",
      "--- CLUSTER 1 SAMPLES ---\n",
      "1. INFO nova.virt.libvirt.driver [req-297e6cd3-84b7-43af-982e-af5be68422dd] [instance: 5897334a-6797-4ccf-b299-cbbcbe6bfb14...\n",
      "2. INFO nova.virt.libvirt.driver [req-65c799f8-e7f0-4c7f-ad2e-db39859caa15] [instance: 9f4a73a0-9f9c-44d1-b34a-3469314b78c7...\n",
      "3. INFO nova.virt.libvirt.driver [req-b54a3755-1572-459d-82f9-4b7c57ae3e80] [instance: 8191edca-f070-403f-857a-887e7484f0e1...\n",
      "4. INFO nova.virt.libvirt.driver [None req-dea5d08f-a057-4ad1-9f55-907cf758a673 admin admin] [instance: e4c3e087-ee75-40a3-...\n",
      "5. INFO nova.virt.libvirt.driver [None req-beedf9d2-7e75-4c0a-ae44-57bc5cc76fea admin admin] [instance: 95883e27-b0f0-41ec-...\n",
      "\n",
      "--- CLUSTER 8 SAMPLES ---\n",
      "1. INFO nova.compute.manager [req-46123093-5f3c-4ff2-b9a3-b013b39f3f26] [instance: 26fa461c-54bc-4aaf-a0c1-9dcdbc13d7a9] Du...\n",
      "2. INFO nova.compute.manager [None req-46123093-5f3c-4ff2-b9a3-b013b39f3f26 None None] [instance: 92de537e-8f8c-4474-a38d-e...\n",
      "3. INFO nova.compute.manager [None req-eb337492-dfed-408c-89f6-433726e82021 None None] [instance: 056fd5f0-0e83-4c69-a19c-6...\n",
      "4. INFO nova.compute.manager [req-d96524cb-6283-416d-95af-d47508fa2ec5] [instance: b3473a31-1c84-4da4-bfd8-239d0087b62a] Du...\n",
      "5. INFO nova.compute.manager [None req-ac9f5721-5c52-4ec3-ba8a-e494d9780d53 None None] [instance: a2b47f77-1787-45a5-a662-d...\n",
      "\n",
      "--- CLUSTER 18 SAMPLES ---\n",
      "1. INFO nova.compute.manager [req-ac9f5721-5c52-4ec3-ba8a-e494d9780d53] [instance: fd750099-65bf-4119-bf8a-de123e31ad03] VM...\n",
      "2. INFO nova.compute.manager [-] [instance: 547747a6-92df-4e2b-84ea-c84659d7ac4e] VM Stopped (Lifecycle Event)...\n",
      "3. INFO nova.compute.manager [-] [instance: 32449f55-b9df-44db-bce7-c5ee2b7407fd] VM Stopped (Lifecycle Event)...\n",
      "4. INFO nova.compute.manager [req-d96524cb-6283-416d-95af-d47508fa2ec5] [instance: c222bad8-7599-47e4-83d6-214194645c26] VM...\n",
      "5. INFO nova.compute.manager [req-ac9f5721-5c52-4ec3-ba8a-e494d9780d53] [instance: 6a330049-37cd-41cb-9532-c51e451af382] VM...\n",
      "\n",
      "--- CLUSTER 4 SAMPLES ---\n",
      "1. INFO nova.compute.manager [None req-51a7529f-cd0f-4739-8169-8fba5bbb3181 admin admin] [instance: ae7f5a8f-87a1-46f8-bf0c...\n",
      "2. INFO nova.compute.manager [None req-0f3e0c2b-b117-4591-87f4-2bc42e80139b admin admin] [instance: c6ed97cd-b231-4c1f-8152...\n",
      "3. INFO nova.compute.manager [req-1464cb89-44d7-493d-937d-6ef055d337eb] [instance: 6d84db49-cf47-44db-bf6b-40b06b949546] To...\n",
      "4. INFO nova.compute.manager [req-4b04949c-f017-411c-b89c-f8cfe1128123] [instance: 5457dda2-4747-48af-a6a9-8f0e46cd0716] To...\n",
      "5. INFO nova.compute.manager [req-d8369c60-1594-49d6-956f-75db70e2fe84] [instance: 7edc4da3-09f5-4c03-b00c-fb3a4b059e62] To...\n",
      "\n",
      "--- CLUSTER 2 SAMPLES ---\n",
      "1. INFO nova.compute.manager [None req-0f69838f-e506-4e79-9b37-85b2cba0ab35 None None] [instance: dc0408cd-29d3-4eb8-8f4c-c...\n",
      "2. INFO nova.compute.manager [req-d96524cb-6283-416d-95af-d47508fa2ec5] [instance: a88e00c7-5cdc-4165-acbc-944a83dc4a07] VM...\n",
      "3. INFO nova.compute.manager [req-81c54f41-2cb7-4235-8c45-da500da1c0fa] [instance: 6a0c3b68-67c8-4090-b865-7505482e8a77] VM...\n",
      "4. INFO nova.compute.manager [None req-46123093-5f3c-4ff2-b9a3-b013b39f3f26 None None] [instance: 10bce6b6-0299-4261-ac8e-8...\n",
      "5. INFO nova.compute.manager [None req-0f69838f-e506-4e79-9b37-85b2cba0ab35 None None] [instance: 088331b6-a82b-40fc-9318-9...\n"
     ]
    }
   ],
   "source": [
    "\n",
    "cluster_samples = {}\n",
    "for cluster_id in large_clusters:\n",
    "    cluster_logs = df[df['cluster_id'] == cluster_id]['raw_log_text']\n",
    "    samples = cluster_logs.head(10).tolist()\n",
    "    cluster_samples[cluster_id] = samples\n",
    "    \n",
    "    print(f\"\\n--- CLUSTER {cluster_id} SAMPLES ---\")\n",
    "    for i, log in enumerate(samples[:5], 1):\n",
    "        print(f\"{i}. {log[:120]}...\")\n"
   ]
  },
  {
   "cell_type": "code",
   "execution_count": 17,
   "id": "37023d7b-6131-4297-b8cd-22c308620f33",
   "metadata": {},
   "outputs": [
    {
     "name": "stdout",
     "output_type": "stream",
     "text": [
      "regex patterns for broader categories:\n",
      "\n",
      "System_Operations_LibVirt:\n",
      "  1. INFO nova\\.virt\\.libvirt\\.driver \\[.*?\\] \\[instance: [a-f0-9\\-]+\\] .*\n",
      "  2. INFO nova\\.virt\\.libvirt\\.driver \\[req-[a-f0-9\\-]+ .*?\\] \\[instance: [a-f0-9\\-]+\\] .*\n",
      "\n",
      "Instance_Management_Compute:\n",
      "  1. INFO nova\\.compute\\.manager \\[req-[a-f0-9\\-]+ .*?\\] \\[instance: [a-f0-9\\-]+\\] .*\n",
      "  2. INFO nova\\.compute\\.manager \\[.*?\\] \\[instance: [a-f0-9\\-]+\\] VM (Started|Stopped|Paused|Resumed|Suspended).*\n",
      "  3. INFO nova\\.compute\\.manager \\[.*?\\] \\[instance: [a-f0-9\\-]+\\] Took [0-9\\.]+ seconds.*\n",
      "\n",
      "Instance_Management_System:\n",
      "  1. INFO nova\\.compute\\.manager \\[None req-[a-f0-9\\-]+ .*?\\] \\[instance: [a-f0-9\\-]+\\] .*\n"
     ]
    }
   ],
   "source": [
    "# Define regex patterns for broader categories with cluster context\n",
    "REGEX_PATTERNS = {\n",
    "    # Cluster 1: LibVirt Driver Operations\n",
    "    \"System_Operations_LibVirt\": [\n",
    "        r\"INFO nova\\.virt\\.libvirt\\.driver \\[.*?\\] \\[instance: [a-f0-9\\-]+\\] .*\",\n",
    "        r\"INFO nova\\.virt\\.libvirt\\.driver \\[req-[a-f0-9\\-]+ .*?\\] \\[instance: [a-f0-9\\-]+\\] .*\"\n",
    "    ],\n",
    "    \n",
    "    # Clusters 8, 18, 2: Compute Manager Operations  \n",
    "    \"Instance_Management_Compute\": [\n",
    "        r\"INFO nova\\.compute\\.manager \\[req-[a-f0-9\\-]+ .*?\\] \\[instance: [a-f0-9\\-]+\\] .*\",\n",
    "        r\"INFO nova\\.compute\\.manager \\[.*?\\] \\[instance: [a-f0-9\\-]+\\] VM (Started|Stopped|Paused|Resumed|Suspended).*\",\n",
    "        r\"INFO nova\\.compute\\.manager \\[.*?\\] \\[instance: [a-f0-9\\-]+\\] Took [0-9\\.]+ seconds.*\"\n",
    "    ],\n",
    "    \n",
    "    # Cluster 4: Compute Manager (None req pattern)\n",
    "    \"Instance_Management_System\": [\n",
    "        r\"INFO nova\\.compute\\.manager \\[None req-[a-f0-9\\-]+ .*?\\] \\[instance: [a-f0-9\\-]+\\] .*\"\n",
    "    ]\n",
    "}\n",
    "\n",
    "print(\"regex patterns for broader categories:\")\n",
    "for category, patterns in REGEX_PATTERNS.items():\n",
    "    print(f\"\\n{category}:\")\n",
    "    for i, pattern in enumerate(patterns, 1):\n",
    "        print(f\"  {i}. {pattern}\")\n"
   ]
  },
  {
   "cell_type": "code",
   "execution_count": 18,
   "id": "d3bd8efd-4171-459e-87d9-548b55af98e8",
   "metadata": {},
   "outputs": [
    {
     "name": "stdout",
     "output_type": "stream",
     "text": [
      "\n",
      "=== REGEX VALIDATION ON SAMPLES ===\n",
      "\n",
      "--- CLUSTER 1 VALIDATION ---\n",
      "System_Operations_LibVirt: 5156/5268 (97.9%)\n",
      "\n",
      "--- CLUSTER 8 VALIDATION ---\n",
      "Instance_Management_System: 2237/4507 (49.6%)\n",
      "\n",
      "--- CLUSTER 18 VALIDATION ---\n",
      "Instance_Management_Compute: 4405/4405 (100.0%)\n",
      "Instance_Management_System: 1534/4405 (34.8%)\n",
      "\n",
      "--- CLUSTER 4 VALIDATION ---\n",
      "Instance_Management_Compute: 3643/3643 (100.0%)\n",
      "Instance_Management_System: 1551/3643 (42.6%)\n",
      "\n",
      "--- CLUSTER 2 VALIDATION ---\n",
      "Instance_Management_Compute: 3161/3285 (96.2%)\n",
      "Instance_Management_System: 1536/3285 (46.8%)\n"
     ]
    }
   ],
   "source": [
    "def test_regex_on_cluster(cluster_id, patterns_dict):\n",
    "    \"\"\"Test regex patterns on a specific cluster's logs\"\"\"\n",
    "    cluster_logs = df[df['cluster_id'] == cluster_id]['raw_log_text'].tolist()\n",
    "    \n",
    "    results = {}\n",
    "    for category, patterns in patterns_dict.items():\n",
    "        matches = 0\n",
    "        for log in cluster_logs:\n",
    "            for pattern in patterns:\n",
    "                if re.search(pattern, log, re.IGNORECASE):\n",
    "                    matches += 1\n",
    "                    break\n",
    "        \n",
    "        match_rate = matches / len(cluster_logs) * 100\n",
    "        results[category] = {\n",
    "            'matches': matches,\n",
    "            'total': len(cluster_logs),\n",
    "            'rate': match_rate\n",
    "        }\n",
    "    \n",
    "    return results\n",
    "\n",
    "# Test regex on each large cluster\n",
    "print(\"\\n=== REGEX VALIDATION ON SAMPLES ===\")\n",
    "for cluster_id in large_clusters:\n",
    "    print(f\"\\n--- CLUSTER {cluster_id} VALIDATION ---\")\n",
    "    results = test_regex_on_cluster(cluster_id, REGEX_PATTERNS)\n",
    "    \n",
    "    for category, result in results.items():\n",
    "        if result['rate'] > 0:\n",
    "            print(f\"{category}: {result['matches']}/{result['total']} ({result['rate']:.1f}%)\")\n"
   ]
  },
  {
   "cell_type": "code",
   "execution_count": 20,
   "id": "efacd66b-63c7-4658-976f-4d21b5429fd6",
   "metadata": {},
   "outputs": [
    {
     "name": "stdout",
     "output_type": "stream",
     "text": [
      "=== REFINED REGEX PATTERNS ===\n",
      "\n",
      "System_Operations_LibVirt:\n",
      "  INFO nova\\.virt\\.libvirt\\.driver.*?\\[instance: [a-f0-9\\-]+\\].*\n",
      "\n",
      "Instance_Management_Compute:\n",
      "  INFO nova\\.compute\\.manager.*?\\[instance: [a-f0-9\\-]+\\].*\n",
      "\n",
      "Instance_Management_System:\n",
      "  INFO nova\\.compute\\.manager \\[None req-.*?\\].*?\\[instance: [a-f0-9\\-]+\\].*\n"
     ]
    }
   ],
   "source": [
    "# Based on validation, refine patterns for better coverage\n",
    "REFINED_REGEX_PATTERNS = {\n",
    "    \"System_Operations_LibVirt\": [\n",
    "        r\"INFO nova\\.virt\\.libvirt\\.driver.*?\\[instance: [a-f0-9\\-]+\\].*\",\n",
    "    ],\n",
    "    \n",
    "    \"Instance_Management_Compute\": [\n",
    "        r\"INFO nova\\.compute\\.manager.*?\\[instance: [a-f0-9\\-]+\\].*\",\n",
    "    ],\n",
    "    \n",
    "    \"Instance_Management_System\": [\n",
    "        r\"INFO nova\\.compute\\.manager \\[None req-.*?\\].*?\\[instance: [a-f0-9\\-]+\\].*\",\n",
    "    ]\n",
    "}\n",
    "\n",
    "print(\"=== REFINED REGEX PATTERNS ===\")\n",
    "for category, patterns in REFINED_REGEX_PATTERNS.items():\n",
    "    print(f\"\\n{category}:\")\n",
    "    for pattern in patterns:\n",
    "        print(f\"  {pattern}\")\n"
   ]
  },
  {
   "cell_type": "code",
   "execution_count": 22,
   "id": "5fe506ee-c951-4295-abe4-806f8fa52bd3",
   "metadata": {},
   "outputs": [
    {
     "name": "stdout",
     "output_type": "stream",
     "text": [
      "\n",
      "=== APPLYING REGEX TO ENTIRE DATASET ===\n",
      "Regex classified: 35241 logs (64.5%)\n"
     ]
    }
   ],
   "source": [
    "def classify_with_regex(log_text, patterns_dict):\n",
    "    \"\"\"Apply regex patterns to classify a log\"\"\"\n",
    "    for category, patterns in patterns_dict.items():\n",
    "        for pattern in patterns:\n",
    "            if re.search(pattern, log_text, re.IGNORECASE):\n",
    "                return category, pattern\n",
    "    return None, None\n",
    "\n",
    "# Apply regex classification to all logs\n",
    "print(\"\\n=== APPLYING REGEX TO ENTIRE DATASET ===\")\n",
    "\n",
    "df['regex_label'] = None\n",
    "df['regex_rule'] = None\n",
    "\n",
    "for idx, row in df.iterrows():\n",
    "    label, rule = classify_with_regex(row['raw_log_text'], REFINED_REGEX_PATTERNS)\n",
    "    if label:\n",
    "        df.at[idx, 'regex_label'] = label\n",
    "        df.at[idx, 'regex_rule'] = rule\n",
    "\n",
    "# Count regex classification results\n",
    "regex_classified = df['regex_label'].notnull().sum()\n",
    "print(f\"Regex classified: {regex_classified} logs ({regex_classified/len(df)*100:.1f}%)\")\n"
   ]
  },
  {
   "cell_type": "code",
   "execution_count": 23,
   "id": "2ca3e45a-dcd3-4b31-865b-415a60b8371c",
   "metadata": {},
   "outputs": [
    {
     "name": "stdout",
     "output_type": "stream",
     "text": [
      "\n",
      "=== REGEX PERFORMANCE ANALYSIS ===\n",
      "Logs classified by category:\n",
      "  Instance_Management_Compute: 25378 logs\n",
      "  System_Operations_LibVirt: 9863 logs\n",
      "\n",
      "=== COVERAGE ON TARGET CLUSTERS ===\n",
      "Cluster 1: 5156/5268 (97.9%)\n",
      "Cluster 8: 4444/4507 (98.6%)\n",
      "Cluster 18: 4405/4405 (100.0%)\n",
      "Cluster 4: 3643/3643 (100.0%)\n",
      "Cluster 2: 3285/3285 (100.0%)\n"
     ]
    }
   ],
   "source": [
    "# Analyze regex performance by category\n",
    "print(\"\\n=== REGEX PERFORMANCE ANALYSIS ===\")\n",
    "\n",
    "regex_stats = df[df['regex_label'].notnull()]['regex_label'].value_counts()\n",
    "print(\"Logs classified by category:\")\n",
    "for category, count in regex_stats.items():\n",
    "    print(f\"  {category}: {count} logs\")\n",
    "\n",
    "# Check coverage on target large clusters\n",
    "print(\"\\n=== COVERAGE ON TARGET CLUSTERS ===\")\n",
    "for cluster_id in large_clusters:\n",
    "    cluster_logs = df[df['cluster_id'] == cluster_id]\n",
    "    classified = cluster_logs['regex_label'].notnull().sum()\n",
    "    total = len(cluster_logs)\n",
    "    print(f\"Cluster {cluster_id}: {classified}/{total} ({classified/total*100:.1f}%)\")\n"
   ]
  },
  {
   "cell_type": "code",
   "execution_count": 24,
   "id": "2466d7da-f263-4de0-b5b7-9469236a319b",
   "metadata": {},
   "outputs": [
    {
     "name": "stdout",
     "output_type": "stream",
     "text": [
      "\n",
      "Saved dataset with regex classifications to 'nova_logs_with_regex.csv'\n",
      "\n",
      "STAGE 3 SUMMARY:\n",
      "Total logs: 54646\n",
      "Regex classified: 35241 (64.5%)\n",
      "Remaining for BERT/LLM: 19405 (35.5%)\n"
     ]
    }
   ],
   "source": [
    "# Save dataset with regex classifications\n",
    "df.to_csv('../data/nova_logs_with_regex.csv', index=False)\n",
    "print(f\"\\nSaved dataset with regex classifications to 'nova_logs_with_regex.csv'\")\n",
    "\n",
    "# Summary statistics\n",
    "unclassified_logs = df['regex_label'].isnull().sum()\n",
    "print(f\"\\nSTAGE 3 SUMMARY:\")\n",
    "print(f\"Total logs: {len(df)}\")\n",
    "print(f\"Regex classified: {regex_classified} ({regex_classified/len(df)*100:.1f}%)\")\n",
    "print(f\"Remaining for BERT/LLM: {unclassified_logs} ({unclassified_logs/len(df)*100:.1f}%)\")\n"
   ]
  },
  {
   "cell_type": "code",
   "execution_count": 25,
   "id": "50c0abec-8b0d-4989-9e8b-6e834e164eec",
   "metadata": {},
   "outputs": [
    {
     "name": "stdout",
     "output_type": "stream",
     "text": [
      "\n",
      "=== SAMPLE UNCLASSIFIED LOGS (for BERT/LLM stages) ===\n",
      "Unclassified logs by cluster:\n",
      "  Cluster 0: 184 logs\n",
      "  Cluster 1: 112 logs\n",
      "  Cluster 3: 2967 logs\n",
      "  Cluster 5: 2467 logs\n",
      "  Cluster 6: 2462 logs\n",
      "  Cluster 7: 29 logs\n",
      "  Cluster 8: 63 logs\n",
      "  Cluster 9: 1100 logs\n",
      "  Cluster 12: 7 logs\n",
      "  Cluster 13: 937 logs\n",
      "\n",
      "Sample unclassified logs:\n",
      "1. WARNING oslo.service.loopingcall [-] Function 'nova.virt.libvirt.driver.LibvirtDriver.spawn.<locals>...\n",
      "2. ERROR nova.compute.manager [instance: c265f382-e5d8-44fb-98c8-84abd4592037]     self.force_reraise()...\n",
      "3. INFO os_vif [None req-7c6fa9c3-a70a-42f3-bc33-96544dea14ed admin admin] Successfully unplugged vif V...\n",
      "4. <entry name='serial'>f41265c7-0cc0-4212-8ab4-89626d362895</entry>...\n",
      "5. INFO nova.scheduler.client.report [req-a322d5f4-1dcb-4709-9348-af4334ee24dc] Deleted allocation for ...\n"
     ]
    }
   ],
   "source": [
    "# Show sample unclassified logs that will go to BERT/LLM stages\n",
    "print(\"\\n=== SAMPLE UNCLASSIFIED LOGS (for BERT/LLM stages) ===\")\n",
    "unclassified = df[df['regex_label'].isnull()]\n",
    "\n",
    "# Group by cluster to see what's left\n",
    "unclassified_by_cluster = unclassified['cluster_id'].value_counts().sort_index()\n",
    "print(\"Unclassified logs by cluster:\")\n",
    "for cluster_id, count in unclassified_by_cluster.head(10).items():\n",
    "    print(f\"  Cluster {cluster_id}: {count} logs\")\n",
    "\n",
    "# Show samples\n",
    "print(\"\\nSample unclassified logs:\")\n",
    "for i, log in enumerate(unclassified['raw_log_text'].head(5), 1):\n",
    "    print(f\"{i}. {log[:100]}...\")\n"
   ]
  }
 ],
 "metadata": {
  "kernelspec": {
   "display_name": "Python 3 (ipykernel)",
   "language": "python",
   "name": "python3"
  },
  "language_info": {
   "codemirror_mode": {
    "name": "ipython",
    "version": 3
   },
   "file_extension": ".py",
   "mimetype": "text/x-python",
   "name": "python",
   "nbconvert_exporter": "python",
   "pygments_lexer": "ipython3",
   "version": "3.12.10"
  }
 },
 "nbformat": 4,
 "nbformat_minor": 5
}
