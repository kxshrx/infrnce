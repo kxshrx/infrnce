{
 "cells": [
  {
   "cell_type": "code",
   "execution_count": null,
   "id": "0e274059-c949-4af5-8af8-bf18bda98d74",
   "metadata": {},
   "outputs": [
    {
     "name": "stdout",
     "output_type": "stream",
     "text": [
      "Total logs: 54646\n",
      "BERT training logs: 9933\n",
      "Cluster distribution:\n",
      "cluster_id\n",
      "3     2967\n",
      "5     2467\n",
      "6     2462\n",
      "9     1100\n",
      "13     937\n",
      "Name: count, dtype: int64\n"
     ]
    }
   ],
   "source": [
    "import pandas as pd\n",
    "import numpy as np\n",
    "from sklearn.model_selection import train_test_split\n",
    "from sklearn.preprocessing import LabelEncoder\n",
    "import torch\n",
    "import torch.nn as nn\n",
    "from torch.utils.data import Dataset, DataLoader\n",
    "from transformers import DistilBertTokenizerFast, DistilBertForSequenceClassification\n",
    "from torch.optim import AdamW\n",
    "from sklearn.metrics import accuracy_score, classification_report, confusion_matrix\n",
    "import warnings\n",
    "warnings.filterwarnings('ignore')\n",
    "\n",
    "# Load your regex-classified dataset\n",
    "df = pd.read_csv('../results/nova_logs_with_regex.csv')\n",
    "print(f\"Total logs: {len(df)}\")\n",
    "\n",
    "# Filter unclassified logs for BERT training (medium clusters only)\n",
    "bert_target_clusters = [3, 5, 6, 9, 13]  # Your medium-sized clusters\n",
    "bert_logs = df[df['regex_label'].isnull() & df['cluster_id'].isin(bert_target_clusters)]\n",
    "\n",
    "print(f\"BERT training logs: {len(bert_logs)}\")\n",
    "print(\"Cluster distribution:\")\n",
    "print(bert_logs['cluster_id'].value_counts().sort_index())\n"
   ]
  },
  {
   "cell_type": "code",
   "execution_count": 8,
   "id": "6dafb2d8-4b7d-4335-9f87-9e4b8941e33b",
   "metadata": {},
   "outputs": [
    {
     "name": "stdout",
     "output_type": "stream",
     "text": [
      "Semantic label distribution:\n",
      "semantic_label\n",
      "Network_Operations        2967\n",
      "Resource_Management       2467\n",
      "Scheduler_Operations      2462\n",
      "Network_VIF_Operations    1100\n",
      "Error_Handling             937\n",
      "Name: count, dtype: int64\n",
      "Label mapping: {'Error_Handling': 0, 'Network_Operations': 1, 'Network_VIF_Operations': 2, 'Resource_Management': 3, 'Scheduler_Operations': 4}\n"
     ]
    }
   ],
   "source": [
    "# Create semantic labels based on cluster analysis\n",
    "cluster_to_label = {\n",
    "    3: 'Network_Operations',      # os_vif operations\n",
    "    5: 'Resource_Management',     # compute claims\n",
    "    6: 'Scheduler_Operations',    # scheduler reports\n",
    "    9: 'Network_VIF_Operations',  # VIF operations\n",
    "    13: 'Error_Handling'          # error patterns\n",
    "}\n",
    "\n",
    "# Apply semantic labels\n",
    "bert_logs = bert_logs.copy()\n",
    "bert_logs['semantic_label'] = bert_logs['cluster_id'].map(cluster_to_label)\n",
    "\n",
    "print(\"Semantic label distribution:\")\n",
    "print(bert_logs['semantic_label'].value_counts())\n",
    "\n",
    "# Encode labels for training\n",
    "label_encoder = LabelEncoder()\n",
    "bert_logs['encoded_label'] = label_encoder.fit_transform(bert_logs['semantic_label'])\n",
    "\n",
    "print(f\"Label mapping: {dict(zip(label_encoder.classes_, range(len(label_encoder.classes_))))}\")\n"
   ]
  },
  {
   "cell_type": "code",
   "execution_count": 9,
   "id": "bf411ed3-58d4-4bfb-9a41-d8b210ca233d",
   "metadata": {},
   "outputs": [],
   "source": [
    "class LogDataset(Dataset):\n",
    "    def __init__(self, texts, labels, tokenizer, max_length=256):\n",
    "        self.texts = texts\n",
    "        self.labels = labels\n",
    "        self.tokenizer = tokenizer\n",
    "        self.max_length = max_length\n",
    "    \n",
    "    def __len__(self):\n",
    "        return len(self.texts)\n",
    "    \n",
    "    def __getitem__(self, idx):\n",
    "        text = str(self.texts[idx])\n",
    "        label = self.labels[idx]\n",
    "        \n",
    "        # Tokenize and encode\n",
    "        encoding = self.tokenizer(\n",
    "            text,\n",
    "            truncation=True,\n",
    "            padding='max_length',\n",
    "            max_length=self.max_length,\n",
    "            return_tensors='pt'\n",
    "        )\n",
    "        \n",
    "        return {\n",
    "            'input_ids': encoding['input_ids'].flatten(),\n",
    "            'attention_mask': encoding['attention_mask'].flatten(),\n",
    "            'labels': torch.tensor(label, dtype=torch.long)\n",
    "        }\n"
   ]
  },
  {
   "cell_type": "code",
   "execution_count": 10,
   "id": "98186966-01f7-4626-85ca-acc0097337a9",
   "metadata": {},
   "outputs": [
    {
     "data": {
      "application/vnd.jupyter.widget-view+json": {
       "model_id": "b51b501da714413591edfc1fdbd76412",
       "version_major": 2,
       "version_minor": 0
      },
      "text/plain": [
       "tokenizer_config.json:   0%|          | 0.00/48.0 [00:00<?, ?B/s]"
      ]
     },
     "metadata": {},
     "output_type": "display_data"
    },
    {
     "data": {
      "application/vnd.jupyter.widget-view+json": {
       "model_id": "556b4cdfaeba451193ef522daac0a670",
       "version_major": 2,
       "version_minor": 0
      },
      "text/plain": [
       "vocab.txt:   0%|          | 0.00/232k [00:00<?, ?B/s]"
      ]
     },
     "metadata": {},
     "output_type": "display_data"
    },
    {
     "data": {
      "application/vnd.jupyter.widget-view+json": {
       "model_id": "59314330b59e40d6b6795b99b080c3d2",
       "version_major": 2,
       "version_minor": 0
      },
      "text/plain": [
       "tokenizer.json:   0%|          | 0.00/466k [00:00<?, ?B/s]"
      ]
     },
     "metadata": {},
     "output_type": "display_data"
    },
    {
     "data": {
      "application/vnd.jupyter.widget-view+json": {
       "model_id": "7c014b768dc5471d8ceafbf32e6efa00",
       "version_major": 2,
       "version_minor": 0
      },
      "text/plain": [
       "config.json:   0%|          | 0.00/483 [00:00<?, ?B/s]"
      ]
     },
     "metadata": {},
     "output_type": "display_data"
    },
    {
     "name": "stdout",
     "output_type": "stream",
     "text": [
      "Training samples: 7946\n",
      "Validation samples: 1987\n"
     ]
    }
   ],
   "source": [
    "# Initialize DistilBERT tokenizer\n",
    "model_name = 'distilbert-base-uncased'\n",
    "tokenizer = DistilBertTokenizerFast.from_pretrained(model_name)\n",
    "\n",
    "# Prepare texts and labels\n",
    "texts = bert_logs['raw_log_text'].tolist()\n",
    "labels = bert_logs['encoded_label'].tolist()\n",
    "\n",
    "# Train-validation split\n",
    "train_texts, val_texts, train_labels, val_labels = train_test_split(\n",
    "    texts, labels, test_size=0.2, random_state=42, stratify=labels\n",
    ")\n",
    "\n",
    "print(f\"Training samples: {len(train_texts)}\")\n",
    "print(f\"Validation samples: {len(val_texts)}\")\n"
   ]
  },
  {
   "cell_type": "code",
   "execution_count": 12,
   "id": "556030fe-61ef-44bc-970f-016a3ce762bb",
   "metadata": {},
   "outputs": [
    {
     "name": "stdout",
     "output_type": "stream",
     "text": [
      "Training batches: 497\n",
      "Validation batches: 125\n"
     ]
    }
   ],
   "source": [
    "# Create datasets\n",
    "train_dataset = LogDataset(train_texts, train_labels, tokenizer)\n",
    "val_dataset = LogDataset(val_texts, val_labels, tokenizer)\n",
    "\n",
    "# Create data loaders\n",
    "batch_size = 16\n",
    "train_loader = DataLoader(train_dataset, batch_size=batch_size, shuffle=True)\n",
    "val_loader = DataLoader(val_dataset, batch_size=batch_size)\n",
    "\n",
    "print(f\"Training batches: {len(train_loader)}\")\n",
    "print(f\"Validation batches: {len(val_loader)}\")\n"
   ]
  },
  {
   "cell_type": "code",
   "execution_count": 14,
   "id": "08a396fb-d09b-4d97-ab07-20bb18192f47",
   "metadata": {},
   "outputs": [
    {
     "name": "stdout",
     "output_type": "stream",
     "text": [
      "Using device: cpu\n"
     ]
    },
    {
     "name": "stderr",
     "output_type": "stream",
     "text": [
      "Some weights of DistilBertForSequenceClassification were not initialized from the model checkpoint at distilbert-base-uncased and are newly initialized: ['classifier.bias', 'classifier.weight', 'pre_classifier.bias', 'pre_classifier.weight']\n",
      "You should probably TRAIN this model on a down-stream task to be able to use it for predictions and inference.\n"
     ]
    },
    {
     "name": "stdout",
     "output_type": "stream",
     "text": [
      "Model initialized with 5 labels\n"
     ]
    }
   ],
   "source": [
    "# Set device\n",
    "device = torch.device('cuda' if torch.cuda.is_available() else 'cpu')\n",
    "print(f\"Using device: {device}\")\n",
    "\n",
    "# Initialize DistilBERT model\n",
    "num_labels = len(label_encoder.classes_)\n",
    "model = DistilBertForSequenceClassification.from_pretrained(\n",
    "    model_name, \n",
    "    num_labels=num_labels\n",
    ")\n",
    "model.to(device)\n",
    "\n",
    "# Setup optimizer\n",
    "optimizer = AdamW(model.parameters(), lr=2e-5)\n",
    "\n",
    "print(f\"Model initialized with {num_labels} labels\")\n"
   ]
  },
  {
   "cell_type": "code",
   "execution_count": null,
   "id": "0b6d7b5e-3d53-4475-830e-d4e85f2b65a4",
   "metadata": {},
   "outputs": [
    {
     "name": "stdout",
     "output_type": "stream",
     "text": [
      "Starting training...\n"
     ]
    }
   ],
   "source": [
    "def train_epoch(model, data_loader, optimizer, device):\n",
    "    model.train()\n",
    "    total_loss = 0\n",
    "    correct_predictions = 0\n",
    "    total_predictions = 0\n",
    "    \n",
    "    for batch_idx, batch in enumerate(data_loader):\n",
    "        input_ids = batch['input_ids'].to(device)\n",
    "        attention_mask = batch['attention_mask'].to(device)\n",
    "        labels = batch['labels'].to(device)\n",
    "        \n",
    "        optimizer.zero_grad()\n",
    "        \n",
    "        outputs = model(\n",
    "            input_ids=input_ids,\n",
    "            attention_mask=attention_mask,\n",
    "            labels=labels\n",
    "        )\n",
    "        \n",
    "        loss = outputs.loss\n",
    "        logits = outputs.logits\n",
    "        \n",
    "        loss.backward()\n",
    "        optimizer.step()\n",
    "        \n",
    "        total_loss += loss.item()\n",
    "        \n",
    "        predictions = torch.argmax(logits, dim=-1)\n",
    "        correct_predictions += (predictions == labels).sum().item()\n",
    "        total_predictions += labels.size(0)\n",
    "        \n",
    "        # Print batch-level details every N batches, e.g. every 10 batches\n",
    "        if (batch_idx + 1) % 10 == 0:\n",
    "            batch_acc = (predictions == labels).sum().item() / labels.size(0)\n",
    "            print(f\"  Batch {batch_idx+1}/{len(data_loader)} - Loss: {loss.item():.4f}, Accuracy: {batch_acc:.4f}\")\n",
    "    \n",
    "    avg_loss = total_loss / len(data_loader)\n",
    "    accuracy = correct_predictions / total_predictions\n",
    "    \n",
    "    return avg_loss, accuracy\n",
    "\n",
    "# Train the model\n",
    "num_epochs = 3\n",
    "print(\"Starting training...\")\n",
    "\n",
    "for epoch in range(num_epochs):\n",
    "    train_loss, train_acc = train_epoch(model, train_loader, optimizer, device)\n",
    "    print(f\"Epoch {epoch+1}/{num_epochs}\")\n",
    "    print(f\"  Train Loss: {train_loss:.4f}, Train Accuracy: {train_acc:.4f}\")\n"
   ]
  },
  {
   "cell_type": "code",
   "execution_count": null,
   "id": "cceae6cb-bdf9-418c-85da-5f81e3788e15",
   "metadata": {},
   "outputs": [],
   "source": [
    "def evaluate_model(model, data_loader, device):\n",
    "    model.eval()\n",
    "    total_loss = 0\n",
    "    all_predictions = []\n",
    "    all_labels = []\n",
    "    all_confidences = []\n",
    "    \n",
    "    with torch.no_grad():\n",
    "        for batch in data_loader:\n",
    "            input_ids = batch['input_ids'].to(device)\n",
    "            attention_mask = batch['attention_mask'].to(device)\n",
    "            labels = batch['labels'].to(device)\n",
    "            \n",
    "            outputs = model(\n",
    "                input_ids=input_ids,\n",
    "                attention_mask=attention_mask,\n",
    "                labels=labels\n",
    "            )\n",
    "            \n",
    "            loss = outputs.loss\n",
    "            logits = outputs.logits\n",
    "            \n",
    "            total_loss += loss.item()\n",
    "            \n",
    "            # Get predictions and confidences\n",
    "            probabilities = torch.softmax(logits, dim=-1)\n",
    "            predictions = torch.argmax(logits, dim=-1)\n",
    "            confidences = torch.max(probabilities, dim=-1)[0]\n",
    "            \n",
    "            all_predictions.extend(predictions.cpu().numpy())\n",
    "            all_labels.extend(labels.cpu().numpy())\n",
    "            all_confidences.extend(confidences.cpu().numpy())\n",
    "    \n",
    "    avg_loss = total_loss / len(data_loader)\n",
    "    accuracy = accuracy_score(all_labels, all_predictions)\n",
    "    \n",
    "    return avg_loss, accuracy, all_predictions, all_labels, all_confidences\n",
    "\n",
    "# Evaluate the model\n",
    "val_loss, val_acc, val_preds, val_labels, val_confidences = evaluate_model(model, val_loader, device)\n",
    "print(f\"\\nValidation Results:\")\n",
    "print(f\"  Loss: {val_loss:.4f}, Accuracy: {val_acc:.4f}\")\n",
    "\n",
    "# Classification report\n",
    "print(\"\\nClassification Report:\")\n",
    "print(classification_report(val_labels, val_preds, target_names=label_encoder.classes_))\n"
   ]
  },
  {
   "cell_type": "code",
   "execution_count": null,
   "id": "f082079d-dd53-4570-9c2f-96b709eb060f",
   "metadata": {},
   "outputs": [],
   "source": [
    "# Save model\n",
    "torch.save(model.state_dict(), '../models/distilbert_log_classifier.pth')\n",
    "print(\"Model saved!\")\n",
    "\n",
    "# Save updated dataset\n",
    "df.to_csv('../results/nova_logs_with_bert.csv', index=False)\n",
    "print(\"Dataset with BERT classifications saved!\")\n",
    "\n",
    "# Summary statistics\n",
    "bert_classified = df['bert_label'].notnull().sum()\n",
    "high_confidence_count = sum(high_confidence_mask)\n",
    "low_confidence_count = len(bert_confidences) - high_confidence_count\n",
    "\n",
    "print(f\"\\n=== STAGE 4 SUMMARY ===\")\n",
    "print(f\"Total logs: {len(df)}\")\n",
    "print(f\"Regex classified: {df['regex_label'].notnull().sum()}\")\n",
    "print(f\"BERT classified (high confidence): {bert_classified}\")\n",
    "print(f\"Remaining for LLM: {df['regex_label'].isnull().sum() - bert_classified}\")\n",
    "print(f\"Average BERT confidence: {np.mean(bert_confidences):.3f}\")\n",
    "\n",
    "print(f\"\\nBERT Label Distribution:\")\n",
    "bert_label_counts = df['bert_label'].value_counts()\n",
    "for label, count in bert_label_counts.items():\n",
    "    print(f\"  {label}: {count}\")\n"
   ]
  }
 ],
 "metadata": {
  "kernelspec": {
   "display_name": "Python 3 (ipykernel)",
   "language": "python",
   "name": "python3"
  },
  "language_info": {
   "codemirror_mode": {
    "name": "ipython",
    "version": 3
   },
   "file_extension": ".py",
   "mimetype": "text/x-python",
   "name": "python",
   "nbconvert_exporter": "python",
   "pygments_lexer": "ipython3",
   "version": "3.12.10"
  }
 },
 "nbformat": 4,
 "nbformat_minor": 5
}
